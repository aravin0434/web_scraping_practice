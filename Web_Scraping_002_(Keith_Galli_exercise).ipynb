{
  "nbformat": 4,
  "nbformat_minor": 0,
  "metadata": {
    "colab": {
      "name": "Web Scraping 002 (Keith Galli exercise).ipynb",
      "provenance": []
    },
    "kernelspec": {
      "name": "python3",
      "display_name": "Python 3"
    },
    "language_info": {
      "name": "python"
    }
  },
  "cells": [
    {
      "cell_type": "markdown",
      "source": [
        "https://keithgalli.github.io/web-scraping/webpage.html"
      ],
      "metadata": {
        "id": "4pORHVAiFwHh"
      }
    },
    {
      "cell_type": "code",
      "source": [
        "import requests\n",
        "from bs4 import BeautifulSoup as bs"
      ],
      "metadata": {
        "id": "VPwC2z_xGKOb"
      },
      "execution_count": 106,
      "outputs": []
    },
    {
      "cell_type": "code",
      "source": [
        "r = requests.get(\"https://keithgalli.github.io/web-scraping/webpage.html\")\n",
        "soup = bs(r.content)\n",
        "print(soup.prettify())"
      ],
      "metadata": {
        "colab": {
          "base_uri": "https://localhost:8080/"
        },
        "id": "w_jMZ6TZF2Mk",
        "outputId": "c6150318-3f0e-4c1b-986f-604f5ba61fb3"
      },
      "execution_count": 107,
      "outputs": [
        {
          "output_type": "stream",
          "name": "stdout",
          "text": [
            "<html>\n",
            " <head>\n",
            "  <title>\n",
            "   Keith Galli's Page\n",
            "  </title>\n",
            "  <style>\n",
            "   table {\n",
            "    border-collapse: collapse;\n",
            "  }\n",
            "  th {\n",
            "    padding:5px;\n",
            "  }\n",
            "  td {\n",
            "    border: 1px solid #ddd;\n",
            "    padding: 5px;\n",
            "  }\n",
            "  tr:nth-child(even) {\n",
            "    background-color: #f2f2f2;\n",
            "  }\n",
            "  th {\n",
            "    padding-top: 12px;\n",
            "    padding-bottom: 12px;\n",
            "    text-align: left;\n",
            "    background-color: #add8e6;\n",
            "    color: black;\n",
            "  }\n",
            "  .block {\n",
            "  width: 100px;\n",
            "  /*float: left;*/\n",
            "    display: inline-block;\n",
            "    zoom: 1;\n",
            "  }\n",
            "  .column {\n",
            "  float: left;\n",
            "  height: 200px;\n",
            "  /*width: 33.33%;*/\n",
            "  padding: 5px;\n",
            "  }\n",
            "\n",
            "  .row::after {\n",
            "    content: \"\";\n",
            "    clear: both;\n",
            "    display: table;\n",
            "  }\n",
            "  </style>\n",
            " </head>\n",
            " <body>\n",
            "  <h1>\n",
            "   Welcome to my page!\n",
            "  </h1>\n",
            "  <img src=\"./images/selfie1.jpg\" width=\"300px\"/>\n",
            "  <h2>\n",
            "   About me\n",
            "  </h2>\n",
            "  <p>\n",
            "   Hi, my name is Keith and I am a YouTuber who focuses on content related to programming, data science, and machine learning!\n",
            "  </p>\n",
            "  <p>\n",
            "   Here is a link to my channel:\n",
            "   <a href=\"https://www.youtube.com/kgmit\">\n",
            "    youtube.com/kgmit\n",
            "   </a>\n",
            "  </p>\n",
            "  <p>\n",
            "   I grew up in the great state of New Hampshire here in the USA. From an early age I always loved math. Around my senior year of high school, my brother first introduced me to programming. I found it a creative way to apply the same type of logical thinking skills that I enjoyed with math. This influenced me to study computer science in college and ultimately create a YouTube channel to share some things that I have learned along the way.\n",
            "  </p>\n",
            "  <h3>\n",
            "   Hobbies\n",
            "  </h3>\n",
            "  <p>\n",
            "   Believe it or not, I don't code 24/7. I love doing all sorts of active things. I like to play ice hockey &amp; table tennis as well as run, hike, skateboard, and snowboard. In addition to sports, I am a board game enthusiast. The two that I've been playing the most recently are\n",
            "   <i>\n",
            "    Settlers of Catan\n",
            "   </i>\n",
            "   and\n",
            "   <i>\n",
            "    Othello\n",
            "   </i>\n",
            "   .\n",
            "  </p>\n",
            "  <h3>\n",
            "   Fun Facts\n",
            "  </h3>\n",
            "  <ul class=\"fun-facts\">\n",
            "   <li>\n",
            "    Owned my dream car in high school\n",
            "    <a href=\"#footer\">\n",
            "     <sup>\n",
            "      1\n",
            "     </sup>\n",
            "    </a>\n",
            "   </li>\n",
            "   <li>\n",
            "    Middle name is Ronald\n",
            "   </li>\n",
            "   <li>\n",
            "    Never had been on a plane until college\n",
            "   </li>\n",
            "   <li>\n",
            "    Dunkin Donuts coffee is better than Starbucks\n",
            "   </li>\n",
            "   <li>\n",
            "    A favorite book series of mine is\n",
            "    <i>\n",
            "     Ender's Game\n",
            "    </i>\n",
            "   </li>\n",
            "   <li>\n",
            "    Current video game of choice is\n",
            "    <i>\n",
            "     Rocket League\n",
            "    </i>\n",
            "   </li>\n",
            "   <li>\n",
            "    The band that I've seen the most times live is the\n",
            "    <i>\n",
            "     Zac Brown Band\n",
            "    </i>\n",
            "   </li>\n",
            "  </ul>\n",
            "  <h2>\n",
            "   Social Media\n",
            "  </h2>\n",
            "  I encourage you to check out my content on all social media platforms\n",
            "  <br/>\n",
            "  <ul class=\"socials\">\n",
            "   <li class=\"social instagram\">\n",
            "    <b>\n",
            "     Instagram:\n",
            "    </b>\n",
            "    <a href=\"https://www.instagram.com/keithgalli/\">\n",
            "     https://www.instagram.com/keithgalli/\n",
            "    </a>\n",
            "   </li>\n",
            "   <li class=\"social twitter\">\n",
            "    <b>\n",
            "     Twitter:\n",
            "    </b>\n",
            "    <a href=\"https://twitter.com/keithgalli\">\n",
            "     https://twitter.com/keithgalli\n",
            "    </a>\n",
            "   </li>\n",
            "   <li class=\"social linkedin\">\n",
            "    <b>\n",
            "     LinkedIn:\n",
            "    </b>\n",
            "    <a href=\"https://www.linkedin.com/in/keithgalli/\">\n",
            "     https://www.linkedin.com/in/keithgalli/\n",
            "    </a>\n",
            "   </li>\n",
            "   <li class=\"social tiktok\">\n",
            "    <b>\n",
            "     TikTok:\n",
            "    </b>\n",
            "    <a href=\"https://www.tiktok.com/@keithgalli\">\n",
            "     https://www.tiktok.com/@keithgalli\n",
            "    </a>\n",
            "   </li>\n",
            "  </ul>\n",
            "  <h2>\n",
            "   Photos\n",
            "  </h2>\n",
            "  Here are a few photos from a trip to italy I took last year\n",
            "  <div class=\"row\">\n",
            "   <div class=\"column\">\n",
            "    <img alt=\"Lake Como\" src=\"images/italy/lake_como.jpg\" style=\"height:100%\"/>\n",
            "   </div>\n",
            "   <div class=\"column\">\n",
            "    <img alt=\"Pontevecchio, Florence\" src=\"images/italy/pontevecchio.jpg\" style=\"height:100%\"/>\n",
            "   </div>\n",
            "   <div class=\"column\">\n",
            "    <img alt=\"Riomaggiore, Cinque de Terre\" src=\"images/italy/riomaggiore.jpg\" style=\"height:100%\"/>\n",
            "   </div>\n",
            "  </div>\n",
            "  <div>\n",
            "  </div>\n",
            "  <h2>\n",
            "   Table\n",
            "  </h2>\n",
            "  My MIT hockey stats :)\n",
            "  <br/>\n",
            "  <table class=\"hockey-stats\">\n",
            "   <thead>\n",
            "    <tr>\n",
            "     <th class=\"season\" data-sort=\"\">\n",
            "      S\n",
            "     </th>\n",
            "     <th class=\"team\" data-sort=\"team\">\n",
            "      Team\n",
            "     </th>\n",
            "     <th class=\"league\" data-sort=\"league\">\n",
            "      League\n",
            "     </th>\n",
            "     <th class=\"regular gp\" data-sort=\"gp\">\n",
            "      GP\n",
            "     </th>\n",
            "     <th class=\"regular g\" data-sort=\"g\">\n",
            "      G\n",
            "     </th>\n",
            "     <th class=\"regular a\" data-sort=\"a\">\n",
            "      A\n",
            "     </th>\n",
            "     <th class=\"regular tp\" data-sort=\"tp\">\n",
            "      TP\n",
            "     </th>\n",
            "     <th class=\"regular pim\" data-sort=\"pim\">\n",
            "      PIM\n",
            "     </th>\n",
            "     <th class=\"regular pm\" data-sort=\"pm\">\n",
            "      +/-\n",
            "     </th>\n",
            "     <th class=\"separator\">\n",
            "     </th>\n",
            "     <th class=\"postseason\">\n",
            "      POST\n",
            "     </th>\n",
            "     <th class=\"postseason gp\" data-sort=\"playoffs-gp\">\n",
            "      GP\n",
            "     </th>\n",
            "     <th class=\"postseason g\" data-sort=\"playoffs-g\">\n",
            "      G\n",
            "     </th>\n",
            "     <th class=\"postseason a\" data-sort=\"playoffs-a\">\n",
            "      A\n",
            "     </th>\n",
            "     <th class=\"postseason tp\" data-sort=\"playoffs-tp\">\n",
            "      TP\n",
            "     </th>\n",
            "     <th class=\"postseason pim\" data-sort=\"playoffs-pim\">\n",
            "      PIM\n",
            "     </th>\n",
            "     <th class=\"postseason pm\" data-sort=\"playoffs-pm\">\n",
            "      +/-\n",
            "     </th>\n",
            "    </tr>\n",
            "   </thead>\n",
            "   <tbody>\n",
            "    <tr class=\"team-continent-NA \">\n",
            "     <td class=\"season sorted\">\n",
            "      2014-15\n",
            "     </td>\n",
            "     <td class=\"team\">\n",
            "      <i>\n",
            "       <img src=\"images/flag.png\"/>\n",
            "      </i>\n",
            "      <span class=\"txt-blue\">\n",
            "       <a href=\"https://www.eliteprospects.com/team/10263/mit-mass.-inst.-of-tech./2014-2015?tab=stats\">\n",
            "        MIT (Mass. Inst. of Tech.)\n",
            "       </a>\n",
            "      </span>\n",
            "     </td>\n",
            "     <td class=\"league\">\n",
            "      <a href=\"https://www.eliteprospects.com/league/acha-ii/stats/2014-2015\">\n",
            "       ACHA II\n",
            "      </a>\n",
            "     </td>\n",
            "     <td class=\"regular gp\">\n",
            "      17\n",
            "     </td>\n",
            "     <td class=\"regular g\">\n",
            "      3\n",
            "     </td>\n",
            "     <td class=\"regular a\">\n",
            "      9\n",
            "     </td>\n",
            "     <td class=\"regular tp\">\n",
            "      12\n",
            "     </td>\n",
            "     <td class=\"regular pim\">\n",
            "      20\n",
            "     </td>\n",
            "     <td class=\"regular pm\">\n",
            "     </td>\n",
            "     <td class=\"separator\">\n",
            "      |\n",
            "     </td>\n",
            "     <td class=\"postseason\">\n",
            "      <a href=\"https://www.eliteprospects.com/league/acha-ii/stats/2014-2015\">\n",
            "      </a>\n",
            "     </td>\n",
            "     <td class=\"postseason gp\">\n",
            "     </td>\n",
            "     <td class=\"postseason g\">\n",
            "     </td>\n",
            "     <td class=\"postseason a\">\n",
            "     </td>\n",
            "     <td class=\"postseason tp\">\n",
            "     </td>\n",
            "     <td class=\"postseason pim\">\n",
            "     </td>\n",
            "     <td class=\"postseason pm\">\n",
            "     </td>\n",
            "    </tr>\n",
            "    <tr class=\"team-continent-NA \">\n",
            "     <td class=\"season sorted\">\n",
            "      2015-16\n",
            "     </td>\n",
            "     <td class=\"team\">\n",
            "      <i>\n",
            "       <img src=\"images/flag.png\"/>\n",
            "      </i>\n",
            "      <span class=\"txt-blue\">\n",
            "       <a href=\"https://www.eliteprospects.com/team/10263/mit-mass.-inst.-of-tech./2015-2016?tab=stats\">\n",
            "        MIT (Mass. Inst. of Tech.)\n",
            "       </a>\n",
            "      </span>\n",
            "     </td>\n",
            "     <td class=\"league\">\n",
            "      <a href=\"https://www.eliteprospects.com/league/acha-ii/stats/2015-2016\">\n",
            "       ACHA II\n",
            "      </a>\n",
            "     </td>\n",
            "     <td class=\"regular gp\">\n",
            "      9\n",
            "     </td>\n",
            "     <td class=\"regular g\">\n",
            "      1\n",
            "     </td>\n",
            "     <td class=\"regular a\">\n",
            "      1\n",
            "     </td>\n",
            "     <td class=\"regular tp\">\n",
            "      2\n",
            "     </td>\n",
            "     <td class=\"regular pim\">\n",
            "      2\n",
            "     </td>\n",
            "     <td class=\"regular pm\">\n",
            "     </td>\n",
            "     <td class=\"separator\">\n",
            "      |\n",
            "     </td>\n",
            "     <td class=\"postseason\">\n",
            "      <a href=\"https://www.eliteprospects.com/league/acha-ii/stats/2015-2016\">\n",
            "      </a>\n",
            "     </td>\n",
            "     <td class=\"postseason gp\">\n",
            "     </td>\n",
            "     <td class=\"postseason g\">\n",
            "     </td>\n",
            "     <td class=\"postseason a\">\n",
            "     </td>\n",
            "     <td class=\"postseason tp\">\n",
            "     </td>\n",
            "     <td class=\"postseason pim\">\n",
            "     </td>\n",
            "     <td class=\"postseason pm\">\n",
            "     </td>\n",
            "    </tr>\n",
            "    <tr class=\"team-continent-NA \">\n",
            "     <td class=\"season sorted\">\n",
            "      2016-17\n",
            "     </td>\n",
            "     <td class=\"team\">\n",
            "      <i>\n",
            "       <img src=\"images/flag.png\"/>\n",
            "      </i>\n",
            "      <span class=\"txt-blue\">\n",
            "       <a href=\"https://www.eliteprospects.com/team/10263/mit-mass.-inst.-of-tech./2016-2017?tab=stats\">\n",
            "        MIT (Mass. Inst. of Tech.)\n",
            "       </a>\n",
            "      </span>\n",
            "     </td>\n",
            "     <td class=\"league\">\n",
            "      <a href=\"https://www.eliteprospects.com/league/acha-ii/stats/2016-2017\">\n",
            "       ACHA II\n",
            "      </a>\n",
            "     </td>\n",
            "     <td class=\"regular gp\">\n",
            "      12\n",
            "     </td>\n",
            "     <td class=\"regular g\">\n",
            "      5\n",
            "     </td>\n",
            "     <td class=\"regular a\">\n",
            "      5\n",
            "     </td>\n",
            "     <td class=\"regular tp\">\n",
            "      10\n",
            "     </td>\n",
            "     <td class=\"regular pim\">\n",
            "      8\n",
            "     </td>\n",
            "     <td class=\"regular pm\">\n",
            "      0\n",
            "     </td>\n",
            "     <td class=\"separator\">\n",
            "      |\n",
            "     </td>\n",
            "     <td class=\"postseason\">\n",
            "     </td>\n",
            "     <td class=\"postseason gp\">\n",
            "     </td>\n",
            "     <td class=\"postseason g\">\n",
            "     </td>\n",
            "     <td class=\"postseason a\">\n",
            "     </td>\n",
            "     <td class=\"postseason tp\">\n",
            "     </td>\n",
            "     <td class=\"postseason pim\">\n",
            "     </td>\n",
            "     <td class=\"postseason pm\">\n",
            "     </td>\n",
            "    </tr>\n",
            "    <tr class=\"team-continent-EU \">\n",
            "     <td class=\"season sorted\">\n",
            "      2017-18\n",
            "     </td>\n",
            "     <td class=\"team\">\n",
            "      Did not play\n",
            "     </td>\n",
            "     <td class=\"league\">\n",
            "      <a href=\"https://www.eliteprospects.com/stats\">\n",
            "      </a>\n",
            "     </td>\n",
            "     <td class=\"regular gp\">\n",
            "     </td>\n",
            "     <td class=\"regular g\">\n",
            "     </td>\n",
            "     <td class=\"regular a\">\n",
            "     </td>\n",
            "     <td class=\"regular tp\">\n",
            "     </td>\n",
            "     <td class=\"regular pim\">\n",
            "     </td>\n",
            "     <td class=\"regular pm\">\n",
            "     </td>\n",
            "     <td class=\"separator\">\n",
            "      |\n",
            "     </td>\n",
            "     <td class=\"postseason\">\n",
            "      <a href=\"https://www.eliteprospects.com/stats\">\n",
            "      </a>\n",
            "     </td>\n",
            "     <td class=\"postseason gp\">\n",
            "     </td>\n",
            "     <td class=\"postseason g\">\n",
            "     </td>\n",
            "     <td class=\"postseason a\">\n",
            "     </td>\n",
            "     <td class=\"postseason tp\">\n",
            "     </td>\n",
            "     <td class=\"postseason pim\">\n",
            "     </td>\n",
            "     <td class=\"postseason pm\">\n",
            "     </td>\n",
            "    </tr>\n",
            "    <tr class=\"team-continent-NA \">\n",
            "     <td class=\"season sorted\">\n",
            "      2018-19\n",
            "     </td>\n",
            "     <td class=\"team\">\n",
            "      <i>\n",
            "       <img src=\"images/flag.png\"/>\n",
            "      </i>\n",
            "      <span class=\"txt-blue\">\n",
            "       <a href=\"https://www.eliteprospects.com/team/10263/mit-mass.-inst.-of-tech./2018-2019?tab=stats\">\n",
            "        MIT (Mass. Inst. of Tech.)\n",
            "       </a>\n",
            "      </span>\n",
            "     </td>\n",
            "     <td class=\"league\">\n",
            "      <a href=\"https://www.eliteprospects.com/league/acha-iii/stats/2018-2019\">\n",
            "       ACHA III\n",
            "      </a>\n",
            "     </td>\n",
            "     <td class=\"regular gp\">\n",
            "      8\n",
            "     </td>\n",
            "     <td class=\"regular g\">\n",
            "      5\n",
            "     </td>\n",
            "     <td class=\"regular a\">\n",
            "      10\n",
            "     </td>\n",
            "     <td class=\"regular tp\">\n",
            "      15\n",
            "     </td>\n",
            "     <td class=\"regular pim\">\n",
            "      8\n",
            "     </td>\n",
            "     <td class=\"regular pm\">\n",
            "     </td>\n",
            "     <td class=\"separator\">\n",
            "      |\n",
            "     </td>\n",
            "     <td class=\"postseason\">\n",
            "      <a href=\"https://www.eliteprospects.com/league/acha-iii/stats/2018-2019\">\n",
            "      </a>\n",
            "     </td>\n",
            "     <td class=\"postseason gp\">\n",
            "     </td>\n",
            "     <td class=\"postseason g\">\n",
            "     </td>\n",
            "     <td class=\"postseason a\">\n",
            "     </td>\n",
            "     <td class=\"postseason tp\">\n",
            "     </td>\n",
            "     <td class=\"postseason pim\">\n",
            "     </td>\n",
            "     <td class=\"postseason pm\">\n",
            "     </td>\n",
            "    </tr>\n",
            "   </tbody>\n",
            "  </table>\n",
            "  <h2>\n",
            "   Mystery Message Challenge!\n",
            "  </h2>\n",
            "  <p>\n",
            "   If you scrape the links below grabbing the &lt;p&gt; tag with id=\"secret-word\", you'll discover a secret message :)\n",
            "  </p>\n",
            "  <div width=\"50%\">\n",
            "   <div align=\"left\" class=\"block\">\n",
            "    <ul>\n",
            "     <li>\n",
            "      <a href=\"challenge/file_1.html\">\n",
            "       File 1\n",
            "      </a>\n",
            "     </li>\n",
            "     <li>\n",
            "      <a href=\"challenge/file_2.html\">\n",
            "       File 2\n",
            "      </a>\n",
            "     </li>\n",
            "     <li>\n",
            "      <a href=\"challenge/file_3.html\">\n",
            "       File 3\n",
            "      </a>\n",
            "     </li>\n",
            "     <li>\n",
            "      <a href=\"challenge/file_4.html\">\n",
            "       File 4\n",
            "      </a>\n",
            "     </li>\n",
            "     <li>\n",
            "      <a href=\"challenge/file_5.html\">\n",
            "       File 5\n",
            "      </a>\n",
            "     </li>\n",
            "    </ul>\n",
            "   </div>\n",
            "   <div align=\"center\" class=\"block\">\n",
            "    <ul>\n",
            "     <li>\n",
            "      <a href=\"challenge/file_6.html\">\n",
            "       File 6\n",
            "      </a>\n",
            "     </li>\n",
            "     <li>\n",
            "      <a href=\"challenge/file_7.html\">\n",
            "       File 7\n",
            "      </a>\n",
            "     </li>\n",
            "     <li>\n",
            "      <a href=\"challenge/file_8.html\">\n",
            "       File 8\n",
            "      </a>\n",
            "     </li>\n",
            "     <li>\n",
            "      <a href=\"challenge/file_9.html\">\n",
            "       File 9\n",
            "      </a>\n",
            "     </li>\n",
            "     <li>\n",
            "      <a href=\"challenge/file_10.html\">\n",
            "       File 10\n",
            "      </a>\n",
            "     </li>\n",
            "    </ul>\n",
            "   </div>\n",
            "  </div>\n",
            "  <h2>\n",
            "   Footnotes\n",
            "  </h2>\n",
            "  <p id=\"footer\">\n",
            "   1. This was actually a minivan that I named Debora. Maybe not my dream car, but I loved her nonetheless.\n",
            "  </p>\n",
            " </body>\n",
            "</html>\n"
          ]
        }
      ]
    },
    {
      "cell_type": "markdown",
      "source": [
        "Get Social links 3 ways\n",
        "1. Find_All/ Find\n",
        "2. Select\n",
        "3. Select (Galli's)"
      ],
      "metadata": {
        "id": "Z2Jqp1x4Stst"
      }
    },
    {
      "cell_type": "code",
      "source": [
        "socials_list = soup.find_all('ul', attrs={\"class\": \"socials\"}) # get socials list"
      ],
      "metadata": {
        "id": "kJ-D4q-xST9u"
      },
      "execution_count": 108,
      "outputs": []
    },
    {
      "cell_type": "code",
      "source": [
        "socials_links = socials_list[0].find_all('a') # using Find_all\n",
        "for social_link in socials_links:\n",
        "  print(social_link.get('href'))"
      ],
      "metadata": {
        "colab": {
          "base_uri": "https://localhost:8080/"
        },
        "id": "VUHCaOrFS2DT",
        "outputId": "76feb3eb-d99a-4ff1-ad26-14588309b17c"
      },
      "execution_count": 109,
      "outputs": [
        {
          "output_type": "stream",
          "name": "stdout",
          "text": [
            "https://www.instagram.com/keithgalli/\n",
            "https://twitter.com/keithgalli\n",
            "https://www.linkedin.com/in/keithgalli/\n",
            "https://www.tiktok.com/@keithgalli\n"
          ]
        }
      ]
    },
    {
      "cell_type": "code",
      "source": [
        "social_links_selected = soup.select('ul.socials a') # using Select\n",
        "for social_link in social_links_selected:\n",
        "  print(social_link.get('href'))"
      ],
      "metadata": {
        "colab": {
          "base_uri": "https://localhost:8080/"
        },
        "id": "L1RmEVwBTl12",
        "outputId": "194d5c13-284f-4b9c-f2fa-5b0e0efe9308"
      },
      "execution_count": 110,
      "outputs": [
        {
          "output_type": "stream",
          "name": "stdout",
          "text": [
            "https://www.instagram.com/keithgalli/\n",
            "https://twitter.com/keithgalli\n",
            "https://www.linkedin.com/in/keithgalli/\n",
            "https://www.tiktok.com/@keithgalli\n"
          ]
        }
      ]
    },
    {
      "cell_type": "code",
      "source": [
        "socials = soup.find('ul', attrs={\"class\": \"socials\"}) # using find"
      ],
      "metadata": {
        "id": "G-9eEYQQUyHI"
      },
      "execution_count": 111,
      "outputs": []
    },
    {
      "cell_type": "code",
      "source": [
        "for social_link in socials.find_all('a'):\n",
        "  print(social_link.get('href'))"
      ],
      "metadata": {
        "colab": {
          "base_uri": "https://localhost:8080/"
        },
        "id": "V04dr8nqYWZ9",
        "outputId": "299ae546-2d40-40a3-fb73-d6f27e38ae71"
      },
      "execution_count": 112,
      "outputs": [
        {
          "output_type": "stream",
          "name": "stdout",
          "text": [
            "https://www.instagram.com/keithgalli/\n",
            "https://twitter.com/keithgalli\n",
            "https://www.linkedin.com/in/keithgalli/\n",
            "https://www.tiktok.com/@keithgalli\n"
          ]
        }
      ]
    },
    {
      "cell_type": "code",
      "source": [
        "links = soup.select('li.social a')\n",
        "for social_link in links:\n",
        "  print(social_link.get('href'))"
      ],
      "metadata": {
        "colab": {
          "base_uri": "https://localhost:8080/"
        },
        "id": "7exeJhglYgzy",
        "outputId": "b4da9a0f-0c73-4f93-9cff-03f4e6032330"
      },
      "execution_count": 113,
      "outputs": [
        {
          "output_type": "stream",
          "name": "stdout",
          "text": [
            "https://www.instagram.com/keithgalli/\n",
            "https://twitter.com/keithgalli\n",
            "https://www.linkedin.com/in/keithgalli/\n",
            "https://www.tiktok.com/@keithgalli\n"
          ]
        }
      ]
    },
    {
      "cell_type": "markdown",
      "source": [
        "Scrape Table into a Pandas dataframe"
      ],
      "metadata": {
        "id": "L6BDTgQQ2c53"
      }
    },
    {
      "cell_type": "code",
      "source": [
        "table = soup.find('table', attrs={\"class\": \"hockey-stats\"})"
      ],
      "metadata": {
        "id": "EmIb3ofoY36K"
      },
      "execution_count": 114,
      "outputs": []
    },
    {
      "cell_type": "code",
      "source": [
        "print(table.prettify())"
      ],
      "metadata": {
        "colab": {
          "base_uri": "https://localhost:8080/"
        },
        "id": "TNg2b2ag2Oxt",
        "outputId": "ebfd4c10-16f2-4a37-bbc9-4f8edff6edb5"
      },
      "execution_count": 115,
      "outputs": [
        {
          "output_type": "stream",
          "name": "stdout",
          "text": [
            "<table class=\"hockey-stats\">\n",
            " <thead>\n",
            "  <tr>\n",
            "   <th class=\"season\" data-sort=\"\">\n",
            "    S\n",
            "   </th>\n",
            "   <th class=\"team\" data-sort=\"team\">\n",
            "    Team\n",
            "   </th>\n",
            "   <th class=\"league\" data-sort=\"league\">\n",
            "    League\n",
            "   </th>\n",
            "   <th class=\"regular gp\" data-sort=\"gp\">\n",
            "    GP\n",
            "   </th>\n",
            "   <th class=\"regular g\" data-sort=\"g\">\n",
            "    G\n",
            "   </th>\n",
            "   <th class=\"regular a\" data-sort=\"a\">\n",
            "    A\n",
            "   </th>\n",
            "   <th class=\"regular tp\" data-sort=\"tp\">\n",
            "    TP\n",
            "   </th>\n",
            "   <th class=\"regular pim\" data-sort=\"pim\">\n",
            "    PIM\n",
            "   </th>\n",
            "   <th class=\"regular pm\" data-sort=\"pm\">\n",
            "    +/-\n",
            "   </th>\n",
            "   <th class=\"separator\">\n",
            "   </th>\n",
            "   <th class=\"postseason\">\n",
            "    POST\n",
            "   </th>\n",
            "   <th class=\"postseason gp\" data-sort=\"playoffs-gp\">\n",
            "    GP\n",
            "   </th>\n",
            "   <th class=\"postseason g\" data-sort=\"playoffs-g\">\n",
            "    G\n",
            "   </th>\n",
            "   <th class=\"postseason a\" data-sort=\"playoffs-a\">\n",
            "    A\n",
            "   </th>\n",
            "   <th class=\"postseason tp\" data-sort=\"playoffs-tp\">\n",
            "    TP\n",
            "   </th>\n",
            "   <th class=\"postseason pim\" data-sort=\"playoffs-pim\">\n",
            "    PIM\n",
            "   </th>\n",
            "   <th class=\"postseason pm\" data-sort=\"playoffs-pm\">\n",
            "    +/-\n",
            "   </th>\n",
            "  </tr>\n",
            " </thead>\n",
            " <tbody>\n",
            "  <tr class=\"team-continent-NA \">\n",
            "   <td class=\"season sorted\">\n",
            "    2014-15\n",
            "   </td>\n",
            "   <td class=\"team\">\n",
            "    <i>\n",
            "     <img src=\"images/flag.png\"/>\n",
            "    </i>\n",
            "    <span class=\"txt-blue\">\n",
            "     <a href=\"https://www.eliteprospects.com/team/10263/mit-mass.-inst.-of-tech./2014-2015?tab=stats\">\n",
            "      MIT (Mass. Inst. of Tech.)\n",
            "     </a>\n",
            "    </span>\n",
            "   </td>\n",
            "   <td class=\"league\">\n",
            "    <a href=\"https://www.eliteprospects.com/league/acha-ii/stats/2014-2015\">\n",
            "     ACHA II\n",
            "    </a>\n",
            "   </td>\n",
            "   <td class=\"regular gp\">\n",
            "    17\n",
            "   </td>\n",
            "   <td class=\"regular g\">\n",
            "    3\n",
            "   </td>\n",
            "   <td class=\"regular a\">\n",
            "    9\n",
            "   </td>\n",
            "   <td class=\"regular tp\">\n",
            "    12\n",
            "   </td>\n",
            "   <td class=\"regular pim\">\n",
            "    20\n",
            "   </td>\n",
            "   <td class=\"regular pm\">\n",
            "   </td>\n",
            "   <td class=\"separator\">\n",
            "    |\n",
            "   </td>\n",
            "   <td class=\"postseason\">\n",
            "    <a href=\"https://www.eliteprospects.com/league/acha-ii/stats/2014-2015\">\n",
            "    </a>\n",
            "   </td>\n",
            "   <td class=\"postseason gp\">\n",
            "   </td>\n",
            "   <td class=\"postseason g\">\n",
            "   </td>\n",
            "   <td class=\"postseason a\">\n",
            "   </td>\n",
            "   <td class=\"postseason tp\">\n",
            "   </td>\n",
            "   <td class=\"postseason pim\">\n",
            "   </td>\n",
            "   <td class=\"postseason pm\">\n",
            "   </td>\n",
            "  </tr>\n",
            "  <tr class=\"team-continent-NA \">\n",
            "   <td class=\"season sorted\">\n",
            "    2015-16\n",
            "   </td>\n",
            "   <td class=\"team\">\n",
            "    <i>\n",
            "     <img src=\"images/flag.png\"/>\n",
            "    </i>\n",
            "    <span class=\"txt-blue\">\n",
            "     <a href=\"https://www.eliteprospects.com/team/10263/mit-mass.-inst.-of-tech./2015-2016?tab=stats\">\n",
            "      MIT (Mass. Inst. of Tech.)\n",
            "     </a>\n",
            "    </span>\n",
            "   </td>\n",
            "   <td class=\"league\">\n",
            "    <a href=\"https://www.eliteprospects.com/league/acha-ii/stats/2015-2016\">\n",
            "     ACHA II\n",
            "    </a>\n",
            "   </td>\n",
            "   <td class=\"regular gp\">\n",
            "    9\n",
            "   </td>\n",
            "   <td class=\"regular g\">\n",
            "    1\n",
            "   </td>\n",
            "   <td class=\"regular a\">\n",
            "    1\n",
            "   </td>\n",
            "   <td class=\"regular tp\">\n",
            "    2\n",
            "   </td>\n",
            "   <td class=\"regular pim\">\n",
            "    2\n",
            "   </td>\n",
            "   <td class=\"regular pm\">\n",
            "   </td>\n",
            "   <td class=\"separator\">\n",
            "    |\n",
            "   </td>\n",
            "   <td class=\"postseason\">\n",
            "    <a href=\"https://www.eliteprospects.com/league/acha-ii/stats/2015-2016\">\n",
            "    </a>\n",
            "   </td>\n",
            "   <td class=\"postseason gp\">\n",
            "   </td>\n",
            "   <td class=\"postseason g\">\n",
            "   </td>\n",
            "   <td class=\"postseason a\">\n",
            "   </td>\n",
            "   <td class=\"postseason tp\">\n",
            "   </td>\n",
            "   <td class=\"postseason pim\">\n",
            "   </td>\n",
            "   <td class=\"postseason pm\">\n",
            "   </td>\n",
            "  </tr>\n",
            "  <tr class=\"team-continent-NA \">\n",
            "   <td class=\"season sorted\">\n",
            "    2016-17\n",
            "   </td>\n",
            "   <td class=\"team\">\n",
            "    <i>\n",
            "     <img src=\"images/flag.png\"/>\n",
            "    </i>\n",
            "    <span class=\"txt-blue\">\n",
            "     <a href=\"https://www.eliteprospects.com/team/10263/mit-mass.-inst.-of-tech./2016-2017?tab=stats\">\n",
            "      MIT (Mass. Inst. of Tech.)\n",
            "     </a>\n",
            "    </span>\n",
            "   </td>\n",
            "   <td class=\"league\">\n",
            "    <a href=\"https://www.eliteprospects.com/league/acha-ii/stats/2016-2017\">\n",
            "     ACHA II\n",
            "    </a>\n",
            "   </td>\n",
            "   <td class=\"regular gp\">\n",
            "    12\n",
            "   </td>\n",
            "   <td class=\"regular g\">\n",
            "    5\n",
            "   </td>\n",
            "   <td class=\"regular a\">\n",
            "    5\n",
            "   </td>\n",
            "   <td class=\"regular tp\">\n",
            "    10\n",
            "   </td>\n",
            "   <td class=\"regular pim\">\n",
            "    8\n",
            "   </td>\n",
            "   <td class=\"regular pm\">\n",
            "    0\n",
            "   </td>\n",
            "   <td class=\"separator\">\n",
            "    |\n",
            "   </td>\n",
            "   <td class=\"postseason\">\n",
            "   </td>\n",
            "   <td class=\"postseason gp\">\n",
            "   </td>\n",
            "   <td class=\"postseason g\">\n",
            "   </td>\n",
            "   <td class=\"postseason a\">\n",
            "   </td>\n",
            "   <td class=\"postseason tp\">\n",
            "   </td>\n",
            "   <td class=\"postseason pim\">\n",
            "   </td>\n",
            "   <td class=\"postseason pm\">\n",
            "   </td>\n",
            "  </tr>\n",
            "  <tr class=\"team-continent-EU \">\n",
            "   <td class=\"season sorted\">\n",
            "    2017-18\n",
            "   </td>\n",
            "   <td class=\"team\">\n",
            "    Did not play\n",
            "   </td>\n",
            "   <td class=\"league\">\n",
            "    <a href=\"https://www.eliteprospects.com/stats\">\n",
            "    </a>\n",
            "   </td>\n",
            "   <td class=\"regular gp\">\n",
            "   </td>\n",
            "   <td class=\"regular g\">\n",
            "   </td>\n",
            "   <td class=\"regular a\">\n",
            "   </td>\n",
            "   <td class=\"regular tp\">\n",
            "   </td>\n",
            "   <td class=\"regular pim\">\n",
            "   </td>\n",
            "   <td class=\"regular pm\">\n",
            "   </td>\n",
            "   <td class=\"separator\">\n",
            "    |\n",
            "   </td>\n",
            "   <td class=\"postseason\">\n",
            "    <a href=\"https://www.eliteprospects.com/stats\">\n",
            "    </a>\n",
            "   </td>\n",
            "   <td class=\"postseason gp\">\n",
            "   </td>\n",
            "   <td class=\"postseason g\">\n",
            "   </td>\n",
            "   <td class=\"postseason a\">\n",
            "   </td>\n",
            "   <td class=\"postseason tp\">\n",
            "   </td>\n",
            "   <td class=\"postseason pim\">\n",
            "   </td>\n",
            "   <td class=\"postseason pm\">\n",
            "   </td>\n",
            "  </tr>\n",
            "  <tr class=\"team-continent-NA \">\n",
            "   <td class=\"season sorted\">\n",
            "    2018-19\n",
            "   </td>\n",
            "   <td class=\"team\">\n",
            "    <i>\n",
            "     <img src=\"images/flag.png\"/>\n",
            "    </i>\n",
            "    <span class=\"txt-blue\">\n",
            "     <a href=\"https://www.eliteprospects.com/team/10263/mit-mass.-inst.-of-tech./2018-2019?tab=stats\">\n",
            "      MIT (Mass. Inst. of Tech.)\n",
            "     </a>\n",
            "    </span>\n",
            "   </td>\n",
            "   <td class=\"league\">\n",
            "    <a href=\"https://www.eliteprospects.com/league/acha-iii/stats/2018-2019\">\n",
            "     ACHA III\n",
            "    </a>\n",
            "   </td>\n",
            "   <td class=\"regular gp\">\n",
            "    8\n",
            "   </td>\n",
            "   <td class=\"regular g\">\n",
            "    5\n",
            "   </td>\n",
            "   <td class=\"regular a\">\n",
            "    10\n",
            "   </td>\n",
            "   <td class=\"regular tp\">\n",
            "    15\n",
            "   </td>\n",
            "   <td class=\"regular pim\">\n",
            "    8\n",
            "   </td>\n",
            "   <td class=\"regular pm\">\n",
            "   </td>\n",
            "   <td class=\"separator\">\n",
            "    |\n",
            "   </td>\n",
            "   <td class=\"postseason\">\n",
            "    <a href=\"https://www.eliteprospects.com/league/acha-iii/stats/2018-2019\">\n",
            "    </a>\n",
            "   </td>\n",
            "   <td class=\"postseason gp\">\n",
            "   </td>\n",
            "   <td class=\"postseason g\">\n",
            "   </td>\n",
            "   <td class=\"postseason a\">\n",
            "   </td>\n",
            "   <td class=\"postseason tp\">\n",
            "   </td>\n",
            "   <td class=\"postseason pim\">\n",
            "   </td>\n",
            "   <td class=\"postseason pm\">\n",
            "   </td>\n",
            "  </tr>\n",
            " </tbody>\n",
            "</table>\n",
            "\n"
          ]
        }
      ]
    },
    {
      "cell_type": "code",
      "source": [
        "import pandas as pd"
      ],
      "metadata": {
        "id": "jjDBRd4-2Pq9"
      },
      "execution_count": 116,
      "outputs": []
    },
    {
      "cell_type": "code",
      "source": [
        "table_columns = []\n",
        "\n",
        "for cols in table.find_all(\"th\"):\n",
        "  table_columns.append(cols.string) # get column names"
      ],
      "metadata": {
        "id": "6fmBmSLR2ld8"
      },
      "execution_count": 117,
      "outputs": []
    },
    {
      "cell_type": "code",
      "source": [
        "table_columns"
      ],
      "metadata": {
        "colab": {
          "base_uri": "https://localhost:8080/"
        },
        "id": "8y2mtRFP3Z0_",
        "outputId": "09c86cec-01a6-4a78-ef68-52b434b0304f"
      },
      "execution_count": 118,
      "outputs": [
        {
          "output_type": "execute_result",
          "data": {
            "text/plain": [
              "['S',\n",
              " 'Team',\n",
              " 'League',\n",
              " 'GP',\n",
              " 'G',\n",
              " 'A',\n",
              " 'TP',\n",
              " 'PIM',\n",
              " '+/-',\n",
              " '\\xa0',\n",
              " 'POST',\n",
              " 'GP',\n",
              " 'G',\n",
              " 'A',\n",
              " 'TP',\n",
              " 'PIM',\n",
              " '+/-']"
            ]
          },
          "metadata": {},
          "execution_count": 118
        }
      ]
    },
    {
      "cell_type": "code",
      "source": [
        "table_entries = table.find_all(\"td\")\n",
        "table_entries"
      ],
      "metadata": {
        "colab": {
          "base_uri": "https://localhost:8080/"
        },
        "id": "3aysZABN3p3B",
        "outputId": "6fbc8e92-c636-402e-8bed-3a8017dc3271"
      },
      "execution_count": 119,
      "outputs": [
        {
          "output_type": "execute_result",
          "data": {
            "text/plain": [
              "[<td class=\"season sorted\">\n",
              "                   2014-15\n",
              "               </td>, <td class=\"team\">\n",
              " <i><img src=\"images/flag.png\"/></i>\n",
              " <span class=\"txt-blue\">\n",
              " <a href=\"https://www.eliteprospects.com/team/10263/mit-mass.-inst.-of-tech./2014-2015?tab=stats\"> MIT (Mass. Inst. of Tech.) </a>\n",
              " </span>\n",
              " </td>, <td class=\"league\"> <a href=\"https://www.eliteprospects.com/league/acha-ii/stats/2014-2015\"> ACHA II </a> </td>, <td class=\"regular gp\">17</td>, <td class=\"regular g\">3</td>, <td class=\"regular a\">9</td>, <td class=\"regular tp\">12</td>, <td class=\"regular pim\">20</td>, <td class=\"regular pm\"></td>, <td class=\"separator\"> | </td>, <td class=\"postseason\">\n",
              " <a href=\"https://www.eliteprospects.com/league/acha-ii/stats/2014-2015\"> </a>\n",
              " </td>, <td class=\"postseason gp\">\n",
              " </td>, <td class=\"postseason g\">\n",
              " </td>, <td class=\"postseason a\">\n",
              " </td>, <td class=\"postseason tp\">\n",
              " </td>, <td class=\"postseason pim\">\n",
              " </td>, <td class=\"postseason pm\">\n",
              " </td>, <td class=\"season sorted\">\n",
              "                   2015-16\n",
              "               </td>, <td class=\"team\">\n",
              " <i><img src=\"images/flag.png\"/></i>\n",
              " <span class=\"txt-blue\">\n",
              " <a href=\"https://www.eliteprospects.com/team/10263/mit-mass.-inst.-of-tech./2015-2016?tab=stats\"> MIT (Mass. Inst. of Tech.) </a>\n",
              " </span>\n",
              " </td>, <td class=\"league\"> <a href=\"https://www.eliteprospects.com/league/acha-ii/stats/2015-2016\"> ACHA II </a> </td>, <td class=\"regular gp\">9</td>, <td class=\"regular g\">1</td>, <td class=\"regular a\">1</td>, <td class=\"regular tp\">2</td>, <td class=\"regular pim\">2</td>, <td class=\"regular pm\"></td>, <td class=\"separator\"> | </td>, <td class=\"postseason\">\n",
              " <a href=\"https://www.eliteprospects.com/league/acha-ii/stats/2015-2016\"> </a>\n",
              " </td>, <td class=\"postseason gp\">\n",
              " </td>, <td class=\"postseason g\">\n",
              " </td>, <td class=\"postseason a\">\n",
              " </td>, <td class=\"postseason tp\">\n",
              " </td>, <td class=\"postseason pim\">\n",
              " </td>, <td class=\"postseason pm\">\n",
              " </td>, <td class=\"season sorted\">\n",
              "                   2016-17\n",
              "               </td>, <td class=\"team\">\n",
              " <i><img src=\"images/flag.png\"/></i>\n",
              " <span class=\"txt-blue\">\n",
              " <a href=\"https://www.eliteprospects.com/team/10263/mit-mass.-inst.-of-tech./2016-2017?tab=stats\"> MIT (Mass. Inst. of Tech.) </a>\n",
              " </span>\n",
              " </td>, <td class=\"league\"> <a href=\"https://www.eliteprospects.com/league/acha-ii/stats/2016-2017\"> ACHA II </a> </td>, <td class=\"regular gp\">12</td>, <td class=\"regular g\">5</td>, <td class=\"regular a\">5</td>, <td class=\"regular tp\">10</td>, <td class=\"regular pim\">8</td>, <td class=\"regular pm\">0</td>, <td class=\"separator\"> | </td>, <td class=\"postseason\">\n",
              " </td>, <td class=\"postseason gp\">\n",
              " </td>, <td class=\"postseason g\">\n",
              " </td>, <td class=\"postseason a\">\n",
              " </td>, <td class=\"postseason tp\">\n",
              " </td>, <td class=\"postseason pim\">\n",
              " </td>, <td class=\"postseason pm\">\n",
              " </td>, <td class=\"season sorted\">\n",
              "                   2017-18\n",
              "               </td>, <td class=\"team\">\n",
              "                   Did not play\n",
              "               </td>, <td class=\"league\"> <a href=\"https://www.eliteprospects.com/stats\"> </a> </td>, <td class=\"regular gp\"></td>, <td class=\"regular g\"></td>, <td class=\"regular a\"></td>, <td class=\"regular tp\"></td>, <td class=\"regular pim\"></td>, <td class=\"regular pm\"></td>, <td class=\"separator\"> | </td>, <td class=\"postseason\">\n",
              " <a href=\"https://www.eliteprospects.com/stats\"> </a>\n",
              " </td>, <td class=\"postseason gp\">\n",
              " </td>, <td class=\"postseason g\">\n",
              " </td>, <td class=\"postseason a\">\n",
              " </td>, <td class=\"postseason tp\">\n",
              " </td>, <td class=\"postseason pim\">\n",
              " </td>, <td class=\"postseason pm\">\n",
              " </td>, <td class=\"season sorted\">\n",
              "                   2018-19\n",
              "               </td>, <td class=\"team\">\n",
              " <i><img src=\"images/flag.png\"/></i>\n",
              " <span class=\"txt-blue\">\n",
              " <a href=\"https://www.eliteprospects.com/team/10263/mit-mass.-inst.-of-tech./2018-2019?tab=stats\"> MIT (Mass. Inst. of Tech.) </a>\n",
              " </span>\n",
              " </td>, <td class=\"league\"> <a href=\"https://www.eliteprospects.com/league/acha-iii/stats/2018-2019\"> ACHA III </a> </td>, <td class=\"regular gp\">8</td>, <td class=\"regular g\">5</td>, <td class=\"regular a\">10</td>, <td class=\"regular tp\">15</td>, <td class=\"regular pim\">8</td>, <td class=\"regular pm\"></td>, <td class=\"separator\"> | </td>, <td class=\"postseason\">\n",
              " <a href=\"https://www.eliteprospects.com/league/acha-iii/stats/2018-2019\"> </a>\n",
              " </td>, <td class=\"postseason gp\">\n",
              " </td>, <td class=\"postseason g\">\n",
              " </td>, <td class=\"postseason a\">\n",
              " </td>, <td class=\"postseason tp\">\n",
              " </td>, <td class=\"postseason pim\">\n",
              " </td>, <td class=\"postseason pm\">\n",
              " </td>]"
            ]
          },
          "metadata": {},
          "execution_count": 119
        }
      ]
    },
    {
      "cell_type": "code",
      "source": [
        "l = []\n",
        "for tr in table.find(\"tbody\").find_all(\"tr\"): # find all table rows inside table body; (outside body will include header row)\n",
        "  td = tr.find_all(\"td\") # find all cells within that row\n",
        "  row = [tr.text.strip() for tr in td] # list of texts contained within that row\n",
        "  l.append(row)"
      ],
      "metadata": {
        "id": "6dXg0hDk3fIw"
      },
      "execution_count": 120,
      "outputs": []
    },
    {
      "cell_type": "code",
      "source": [
        "pd.DataFrame(l, columns=table_columns)"
      ],
      "metadata": {
        "colab": {
          "base_uri": "https://localhost:8080/",
          "height": 476
        },
        "id": "aAdo_onR4dfK",
        "outputId": "981c6eb7-88f7-438d-b06b-45e8ff3f02ed"
      },
      "execution_count": 121,
      "outputs": [
        {
          "output_type": "execute_result",
          "data": {
            "text/plain": [
              "         S                        Team    League  GP  G   A  TP PIM +/-     \\\n",
              "0  2014-15  MIT (Mass. Inst. of Tech.)   ACHA II  17  3   9  12  20      |   \n",
              "1  2015-16  MIT (Mass. Inst. of Tech.)   ACHA II   9  1   1   2   2      |   \n",
              "2  2016-17  MIT (Mass. Inst. of Tech.)   ACHA II  12  5   5  10   8   0  |   \n",
              "3  2017-18                Did not play                                   |   \n",
              "4  2018-19  MIT (Mass. Inst. of Tech.)  ACHA III   8  5  10  15   8      |   \n",
              "\n",
              "  POST GP G A TP PIM +/-  \n",
              "0                         \n",
              "1                         \n",
              "2                         \n",
              "3                         \n",
              "4                         "
            ],
            "text/html": [
              "\n",
              "  <div id=\"df-d85b35a6-cf84-4c6f-aa25-bc11d8ced40a\">\n",
              "    <div class=\"colab-df-container\">\n",
              "      <div>\n",
              "<style scoped>\n",
              "    .dataframe tbody tr th:only-of-type {\n",
              "        vertical-align: middle;\n",
              "    }\n",
              "\n",
              "    .dataframe tbody tr th {\n",
              "        vertical-align: top;\n",
              "    }\n",
              "\n",
              "    .dataframe thead th {\n",
              "        text-align: right;\n",
              "    }\n",
              "</style>\n",
              "<table border=\"1\" class=\"dataframe\">\n",
              "  <thead>\n",
              "    <tr style=\"text-align: right;\">\n",
              "      <th></th>\n",
              "      <th>S</th>\n",
              "      <th>Team</th>\n",
              "      <th>League</th>\n",
              "      <th>GP</th>\n",
              "      <th>G</th>\n",
              "      <th>A</th>\n",
              "      <th>TP</th>\n",
              "      <th>PIM</th>\n",
              "      <th>+/-</th>\n",
              "      <th></th>\n",
              "      <th>POST</th>\n",
              "      <th>GP</th>\n",
              "      <th>G</th>\n",
              "      <th>A</th>\n",
              "      <th>TP</th>\n",
              "      <th>PIM</th>\n",
              "      <th>+/-</th>\n",
              "    </tr>\n",
              "  </thead>\n",
              "  <tbody>\n",
              "    <tr>\n",
              "      <th>0</th>\n",
              "      <td>2014-15</td>\n",
              "      <td>MIT (Mass. Inst. of Tech.)</td>\n",
              "      <td>ACHA II</td>\n",
              "      <td>17</td>\n",
              "      <td>3</td>\n",
              "      <td>9</td>\n",
              "      <td>12</td>\n",
              "      <td>20</td>\n",
              "      <td></td>\n",
              "      <td>|</td>\n",
              "      <td></td>\n",
              "      <td></td>\n",
              "      <td></td>\n",
              "      <td></td>\n",
              "      <td></td>\n",
              "      <td></td>\n",
              "      <td></td>\n",
              "    </tr>\n",
              "    <tr>\n",
              "      <th>1</th>\n",
              "      <td>2015-16</td>\n",
              "      <td>MIT (Mass. Inst. of Tech.)</td>\n",
              "      <td>ACHA II</td>\n",
              "      <td>9</td>\n",
              "      <td>1</td>\n",
              "      <td>1</td>\n",
              "      <td>2</td>\n",
              "      <td>2</td>\n",
              "      <td></td>\n",
              "      <td>|</td>\n",
              "      <td></td>\n",
              "      <td></td>\n",
              "      <td></td>\n",
              "      <td></td>\n",
              "      <td></td>\n",
              "      <td></td>\n",
              "      <td></td>\n",
              "    </tr>\n",
              "    <tr>\n",
              "      <th>2</th>\n",
              "      <td>2016-17</td>\n",
              "      <td>MIT (Mass. Inst. of Tech.)</td>\n",
              "      <td>ACHA II</td>\n",
              "      <td>12</td>\n",
              "      <td>5</td>\n",
              "      <td>5</td>\n",
              "      <td>10</td>\n",
              "      <td>8</td>\n",
              "      <td>0</td>\n",
              "      <td>|</td>\n",
              "      <td></td>\n",
              "      <td></td>\n",
              "      <td></td>\n",
              "      <td></td>\n",
              "      <td></td>\n",
              "      <td></td>\n",
              "      <td></td>\n",
              "    </tr>\n",
              "    <tr>\n",
              "      <th>3</th>\n",
              "      <td>2017-18</td>\n",
              "      <td>Did not play</td>\n",
              "      <td></td>\n",
              "      <td></td>\n",
              "      <td></td>\n",
              "      <td></td>\n",
              "      <td></td>\n",
              "      <td></td>\n",
              "      <td></td>\n",
              "      <td>|</td>\n",
              "      <td></td>\n",
              "      <td></td>\n",
              "      <td></td>\n",
              "      <td></td>\n",
              "      <td></td>\n",
              "      <td></td>\n",
              "      <td></td>\n",
              "    </tr>\n",
              "    <tr>\n",
              "      <th>4</th>\n",
              "      <td>2018-19</td>\n",
              "      <td>MIT (Mass. Inst. of Tech.)</td>\n",
              "      <td>ACHA III</td>\n",
              "      <td>8</td>\n",
              "      <td>5</td>\n",
              "      <td>10</td>\n",
              "      <td>15</td>\n",
              "      <td>8</td>\n",
              "      <td></td>\n",
              "      <td>|</td>\n",
              "      <td></td>\n",
              "      <td></td>\n",
              "      <td></td>\n",
              "      <td></td>\n",
              "      <td></td>\n",
              "      <td></td>\n",
              "      <td></td>\n",
              "    </tr>\n",
              "  </tbody>\n",
              "</table>\n",
              "</div>\n",
              "      <button class=\"colab-df-convert\" onclick=\"convertToInteractive('df-d85b35a6-cf84-4c6f-aa25-bc11d8ced40a')\"\n",
              "              title=\"Convert this dataframe to an interactive table.\"\n",
              "              style=\"display:none;\">\n",
              "        \n",
              "  <svg xmlns=\"http://www.w3.org/2000/svg\" height=\"24px\"viewBox=\"0 0 24 24\"\n",
              "       width=\"24px\">\n",
              "    <path d=\"M0 0h24v24H0V0z\" fill=\"none\"/>\n",
              "    <path d=\"M18.56 5.44l.94 2.06.94-2.06 2.06-.94-2.06-.94-.94-2.06-.94 2.06-2.06.94zm-11 1L8.5 8.5l.94-2.06 2.06-.94-2.06-.94L8.5 2.5l-.94 2.06-2.06.94zm10 10l.94 2.06.94-2.06 2.06-.94-2.06-.94-.94-2.06-.94 2.06-2.06.94z\"/><path d=\"M17.41 7.96l-1.37-1.37c-.4-.4-.92-.59-1.43-.59-.52 0-1.04.2-1.43.59L10.3 9.45l-7.72 7.72c-.78.78-.78 2.05 0 2.83L4 21.41c.39.39.9.59 1.41.59.51 0 1.02-.2 1.41-.59l7.78-7.78 2.81-2.81c.8-.78.8-2.07 0-2.86zM5.41 20L4 18.59l7.72-7.72 1.47 1.35L5.41 20z\"/>\n",
              "  </svg>\n",
              "      </button>\n",
              "      \n",
              "  <style>\n",
              "    .colab-df-container {\n",
              "      display:flex;\n",
              "      flex-wrap:wrap;\n",
              "      gap: 12px;\n",
              "    }\n",
              "\n",
              "    .colab-df-convert {\n",
              "      background-color: #E8F0FE;\n",
              "      border: none;\n",
              "      border-radius: 50%;\n",
              "      cursor: pointer;\n",
              "      display: none;\n",
              "      fill: #1967D2;\n",
              "      height: 32px;\n",
              "      padding: 0 0 0 0;\n",
              "      width: 32px;\n",
              "    }\n",
              "\n",
              "    .colab-df-convert:hover {\n",
              "      background-color: #E2EBFA;\n",
              "      box-shadow: 0px 1px 2px rgba(60, 64, 67, 0.3), 0px 1px 3px 1px rgba(60, 64, 67, 0.15);\n",
              "      fill: #174EA6;\n",
              "    }\n",
              "\n",
              "    [theme=dark] .colab-df-convert {\n",
              "      background-color: #3B4455;\n",
              "      fill: #D2E3FC;\n",
              "    }\n",
              "\n",
              "    [theme=dark] .colab-df-convert:hover {\n",
              "      background-color: #434B5C;\n",
              "      box-shadow: 0px 1px 3px 1px rgba(0, 0, 0, 0.15);\n",
              "      filter: drop-shadow(0px 1px 2px rgba(0, 0, 0, 0.3));\n",
              "      fill: #FFFFFF;\n",
              "    }\n",
              "  </style>\n",
              "\n",
              "      <script>\n",
              "        const buttonEl =\n",
              "          document.querySelector('#df-d85b35a6-cf84-4c6f-aa25-bc11d8ced40a button.colab-df-convert');\n",
              "        buttonEl.style.display =\n",
              "          google.colab.kernel.accessAllowed ? 'block' : 'none';\n",
              "\n",
              "        async function convertToInteractive(key) {\n",
              "          const element = document.querySelector('#df-d85b35a6-cf84-4c6f-aa25-bc11d8ced40a');\n",
              "          const dataTable =\n",
              "            await google.colab.kernel.invokeFunction('convertToInteractive',\n",
              "                                                     [key], {});\n",
              "          if (!dataTable) return;\n",
              "\n",
              "          const docLinkHtml = 'Like what you see? Visit the ' +\n",
              "            '<a target=\"_blank\" href=https://colab.research.google.com/notebooks/data_table.ipynb>data table notebook</a>'\n",
              "            + ' to learn more about interactive tables.';\n",
              "          element.innerHTML = '';\n",
              "          dataTable['output_type'] = 'display_data';\n",
              "          await google.colab.output.renderOutput(dataTable, element);\n",
              "          const docLink = document.createElement('div');\n",
              "          docLink.innerHTML = docLinkHtml;\n",
              "          element.appendChild(docLink);\n",
              "        }\n",
              "      </script>\n",
              "    </div>\n",
              "  </div>\n",
              "  "
            ]
          },
          "metadata": {},
          "execution_count": 121
        }
      ]
    },
    {
      "cell_type": "markdown",
      "source": [
        "Grab all fun facts that contain the word \"is\""
      ],
      "metadata": {
        "id": "z_lvUFQx68IK"
      }
    },
    {
      "cell_type": "code",
      "source": [
        "fun_facts = soup.select(\"ul.fun-facts\")\n",
        "fun_facts"
      ],
      "metadata": {
        "colab": {
          "base_uri": "https://localhost:8080/"
        },
        "id": "Q9qAuGHu4eQb",
        "outputId": "f057df02-144d-4b1c-c44f-ba2122622210"
      },
      "execution_count": 122,
      "outputs": [
        {
          "output_type": "execute_result",
          "data": {
            "text/plain": [
              "[<ul class=\"fun-facts\">\n",
              " <li>Owned my dream car in high school <a href=\"#footer\"><sup>1</sup></a></li>\n",
              " <li>Middle name is Ronald</li>\n",
              " <li>Never had been on a plane until college</li>\n",
              " <li>Dunkin Donuts coffee is better than Starbucks</li>\n",
              " <li>A favorite book series of mine is <i>Ender's Game</i></li>\n",
              " <li>Current video game of choice is <i>Rocket League</i></li>\n",
              " <li>The band that I've seen the most times live is the <i>Zac Brown Band</i></li>\n",
              " </ul>]"
            ]
          },
          "metadata": {},
          "execution_count": 122
        }
      ]
    },
    {
      "cell_type": "code",
      "source": [
        "import re"
      ],
      "metadata": {
        "id": "0MyQ1fFb79v-"
      },
      "execution_count": 123,
      "outputs": []
    },
    {
      "cell_type": "code",
      "source": [
        "is_facts = fun_facts[0].find_all(\"li\", string=re.compile(\" is \")) # missed nested tags"
      ],
      "metadata": {
        "id": "yX4Jk_V57Zfb"
      },
      "execution_count": 124,
      "outputs": []
    },
    {
      "cell_type": "code",
      "source": [
        "for fact in is_facts: \n",
        "  print(fact.text)"
      ],
      "metadata": {
        "colab": {
          "base_uri": "https://localhost:8080/"
        },
        "id": "e96vichH74G8",
        "outputId": "b5736451-bad1-4938-c18c-933c79959073"
      },
      "execution_count": 125,
      "outputs": [
        {
          "output_type": "stream",
          "name": "stdout",
          "text": [
            "Middle name is Ronald\n",
            "Dunkin Donuts coffee is better than Starbucks\n"
          ]
        }
      ]
    },
    {
      "cell_type": "code",
      "source": [
        "for fact in fun_facts:\n",
        "  print(fact.text)"
      ],
      "metadata": {
        "colab": {
          "base_uri": "https://localhost:8080/"
        },
        "id": "fMeDtkFk8p3h",
        "outputId": "54a62266-1d6a-4e40-dbaf-63d553e85e9b"
      },
      "execution_count": 126,
      "outputs": [
        {
          "output_type": "stream",
          "name": "stdout",
          "text": [
            "\n",
            "Owned my dream car in high school 1\n",
            "Middle name is Ronald\n",
            "Never had been on a plane until college\n",
            "Dunkin Donuts coffee is better than Starbucks\n",
            "A favorite book series of mine is Ender's Game\n",
            "Current video game of choice is Rocket League\n",
            "The band that I've seen the most times live is the Zac Brown Band\n",
            "\n"
          ]
        }
      ]
    },
    {
      "cell_type": "code",
      "source": [
        "is_facts = fun_facts[0].find_all(string=re.compile(\" is \")) # gets all facts, but still misses part of the text that is italicised"
      ],
      "metadata": {
        "id": "PplBPMqR9S2p"
      },
      "execution_count": 127,
      "outputs": []
    },
    {
      "cell_type": "code",
      "source": [
        "for fact in is_facts: \n",
        "  print(fact)"
      ],
      "metadata": {
        "colab": {
          "base_uri": "https://localhost:8080/"
        },
        "id": "XWZFTdU_9dpG",
        "outputId": "1e344ee7-86b7-4388-d205-9ed2bd28bdcd"
      },
      "execution_count": 128,
      "outputs": [
        {
          "output_type": "stream",
          "name": "stdout",
          "text": [
            "Middle name is Ronald\n",
            "Dunkin Donuts coffee is better than Starbucks\n",
            "A favorite book series of mine is \n",
            "Current video game of choice is \n",
            "The band that I've seen the most times live is the \n"
          ]
        }
      ]
    },
    {
      "cell_type": "code",
      "source": [
        "for fact in is_facts: \n",
        "  print(fact.find_parent().get_text()) # find parent gives the li tag"
      ],
      "metadata": {
        "colab": {
          "base_uri": "https://localhost:8080/"
        },
        "id": "yi04QkZ2-AXx",
        "outputId": "c4513dd3-c6b6-4119-9721-8e1d8876ecfa"
      },
      "execution_count": 129,
      "outputs": [
        {
          "output_type": "stream",
          "name": "stdout",
          "text": [
            "Middle name is Ronald\n",
            "Dunkin Donuts coffee is better than Starbucks\n",
            "A favorite book series of mine is Ender's Game\n",
            "Current video game of choice is Rocket League\n",
            "The band that I've seen the most times live is the Zac Brown Band\n"
          ]
        }
      ]
    },
    {
      "cell_type": "markdown",
      "source": [
        "Download an image "
      ],
      "metadata": {
        "id": "S85G_GtH_k1U"
      }
    },
    {
      "cell_type": "code",
      "source": [
        "img = soup.find(\"img\")\n",
        "img"
      ],
      "metadata": {
        "colab": {
          "base_uri": "https://localhost:8080/"
        },
        "id": "MVlaHZpe_cOz",
        "outputId": "ce3d57b3-e7ac-435b-835d-900899a98c15"
      },
      "execution_count": 130,
      "outputs": [
        {
          "output_type": "execute_result",
          "data": {
            "text/plain": [
              "<img src=\"./images/selfie1.jpg\" width=\"300px\"/>"
            ]
          },
          "metadata": {},
          "execution_count": 130
        }
      ]
    },
    {
      "cell_type": "code",
      "source": [
        "print(dir(img))"
      ],
      "metadata": {
        "colab": {
          "base_uri": "https://localhost:8080/"
        },
        "id": "ghKcRxfo_vZr",
        "outputId": "b0d29a3d-30f4-41ea-d1c6-468ef8395f75"
      },
      "execution_count": 131,
      "outputs": [
        {
          "output_type": "stream",
          "name": "stdout",
          "text": [
            "['HTML_FORMATTERS', 'XML_FORMATTERS', '__bool__', '__call__', '__class__', '__contains__', '__copy__', '__delattr__', '__delitem__', '__dict__', '__dir__', '__doc__', '__eq__', '__format__', '__ge__', '__getattr__', '__getattribute__', '__getitem__', '__gt__', '__hash__', '__init__', '__init_subclass__', '__iter__', '__le__', '__len__', '__lt__', '__module__', '__ne__', '__new__', '__reduce__', '__reduce_ex__', '__repr__', '__setattr__', '__setitem__', '__sizeof__', '__str__', '__subclasshook__', '__unicode__', '__weakref__', '_all_strings', '_attr_value_as_string', '_attribute_checker', '_find_all', '_find_one', '_formatter_for_name', '_is_xml', '_lastRecursiveChild', '_last_descendant', '_select_debug', '_selector_combinators', '_should_pretty_print', '_tag_name_matches_and', 'append', 'attribselect_re', 'attrs', 'can_be_empty_element', 'childGenerator', 'children', 'clear', 'contents', 'decode', 'decode_contents', 'decompose', 'descendants', 'encode', 'encode_contents', 'extract', 'fetchNextSiblings', 'fetchParents', 'fetchPrevious', 'fetchPreviousSiblings', 'find', 'findAll', 'findAllNext', 'findAllPrevious', 'findChild', 'findChildren', 'findNext', 'findNextSibling', 'findNextSiblings', 'findParent', 'findParents', 'findPrevious', 'findPreviousSibling', 'findPreviousSiblings', 'find_all', 'find_all_next', 'find_all_previous', 'find_next', 'find_next_sibling', 'find_next_siblings', 'find_parent', 'find_parents', 'find_previous', 'find_previous_sibling', 'find_previous_siblings', 'format_string', 'get', 'getText', 'get_attribute_list', 'get_text', 'has_attr', 'has_key', 'hidden', 'index', 'insert', 'insert_after', 'insert_before', 'isSelfClosing', 'is_empty_element', 'known_xml', 'name', 'namespace', 'next', 'nextGenerator', 'nextSibling', 'nextSiblingGenerator', 'next_element', 'next_elements', 'next_sibling', 'next_siblings', 'parent', 'parentGenerator', 'parents', 'parserClass', 'parser_class', 'prefix', 'preserve_whitespace_tags', 'prettify', 'previous', 'previousGenerator', 'previousSibling', 'previousSiblingGenerator', 'previous_element', 'previous_elements', 'previous_sibling', 'previous_siblings', 'quoted_colon', 'recursiveChildGenerator', 'renderContents', 'replaceWith', 'replaceWithChildren', 'replace_with', 'replace_with_children', 'select', 'select_one', 'setup', 'string', 'strings', 'stripped_strings', 'tag_name_re', 'text', 'unwrap', 'wrap']\n"
          ]
        }
      ]
    },
    {
      "cell_type": "code",
      "source": [
        "print(img[\"src\"]) # src of image"
      ],
      "metadata": {
        "colab": {
          "base_uri": "https://localhost:8080/"
        },
        "id": "G0ezgYh3AASw",
        "outputId": "861aed6e-2111-4674-d344-9940baf964c5"
      },
      "execution_count": 132,
      "outputs": [
        {
          "output_type": "stream",
          "name": "stdout",
          "text": [
            "./images/selfie1.jpg\n"
          ]
        }
      ]
    },
    {
      "cell_type": "code",
      "source": [
        "url = \"https://keithgalli.github.io/web-scraping/\" # base url, without path to the webpage"
      ],
      "metadata": {
        "id": "_t0VouQHAI6o"
      },
      "execution_count": 133,
      "outputs": []
    },
    {
      "cell_type": "code",
      "source": [
        "img_url = url + img[\"src\"]  "
      ],
      "metadata": {
        "id": "-4-lGbKuBpTs"
      },
      "execution_count": 134,
      "outputs": []
    },
    {
      "cell_type": "code",
      "source": [
        "img_url # absolute path of img"
      ],
      "metadata": {
        "colab": {
          "base_uri": "https://localhost:8080/",
          "height": 35
        },
        "id": "9V6UhRfiBtRx",
        "outputId": "7e843de5-2e41-430b-c5eb-3dcc4c565d16"
      },
      "execution_count": 135,
      "outputs": [
        {
          "output_type": "execute_result",
          "data": {
            "text/plain": [
              "'https://keithgalli.github.io/web-scraping/./images/selfie1.jpg'"
            ],
            "application/vnd.google.colaboratory.intrinsic+json": {
              "type": "string"
            }
          },
          "metadata": {},
          "execution_count": 135
        }
      ]
    },
    {
      "cell_type": "code",
      "source": [
        "with open(\"test.jpg\", \"wb+\") as f:\n",
        "  r_img = requests.get(img_url).content # get img contents\n",
        "  print(r_img)\n",
        "  f.write(r_img) # write to file"
      ],
      "metadata": {
        "colab": {
          "base_uri": "https://localhost:8080/"
        },
        "id": "w7rV9ZMLBvv_",
        "outputId": "6523d236-7020-40f4-ebf9-2b4ec178d5f3"
      },
      "execution_count": 136,
      "outputs": [
        {
          "output_type": "stream",
          "name": "stderr",
          "text": [
            "IOPub data rate exceeded.\n",
            "The notebook server will temporarily stop sending output\n",
            "to the client in order to avoid crashing it.\n",
            "To change this limit, set the config variable\n",
            "`--NotebookApp.iopub_data_rate_limit`.\n",
            "\n",
            "Current values:\n",
            "NotebookApp.iopub_data_rate_limit=1000000.0 (bytes/sec)\n",
            "NotebookApp.rate_limit_window=3.0 (secs)\n",
            "\n"
          ]
        }
      ]
    },
    {
      "cell_type": "markdown",
      "source": [
        "Mystery Challenge"
      ],
      "metadata": {
        "id": "LpQ8NAJLTt3R"
      }
    },
    {
      "cell_type": "code",
      "source": [
        "mystery_divs = soup.find_all(\"div\", attrs={\"class\":\"block\"})"
      ],
      "metadata": {
        "id": "GPEBKknVCYX0"
      },
      "execution_count": 144,
      "outputs": []
    },
    {
      "cell_type": "code",
      "source": [
        "links = soup.select(\"div.block a\")"
      ],
      "metadata": {
        "id": "l5Cx0PdmT8JS"
      },
      "execution_count": 147,
      "outputs": []
    },
    {
      "cell_type": "code",
      "source": [
        "links"
      ],
      "metadata": {
        "colab": {
          "base_uri": "https://localhost:8080/"
        },
        "id": "ZZPf2ms8T-Fy",
        "outputId": "54a5f3b3-88d4-49e3-e2f4-3d8557ea5356"
      },
      "execution_count": 148,
      "outputs": [
        {
          "output_type": "execute_result",
          "data": {
            "text/plain": [
              "[<a href=\"challenge/file_1.html\">File 1</a>,\n",
              " <a href=\"challenge/file_2.html\">File 2</a>,\n",
              " <a href=\"challenge/file_3.html\">File 3</a>,\n",
              " <a href=\"challenge/file_4.html\">File 4</a>,\n",
              " <a href=\"challenge/file_5.html\">File 5</a>,\n",
              " <a href=\"challenge/file_6.html\">File 6</a>,\n",
              " <a href=\"challenge/file_7.html\">File 7</a>,\n",
              " <a href=\"challenge/file_8.html\">File 8</a>,\n",
              " <a href=\"challenge/file_9.html\">File 9</a>,\n",
              " <a href=\"challenge/file_10.html\">File 10</a>]"
            ]
          },
          "metadata": {},
          "execution_count": 148
        }
      ]
    },
    {
      "cell_type": "code",
      "source": [
        "file_links = []\n",
        "for link in links:\n",
        "  file_links.append(url + link[\"href\"])\n",
        "print(file_links)"
      ],
      "metadata": {
        "colab": {
          "base_uri": "https://localhost:8080/"
        },
        "id": "PDZwEYYrVd3A",
        "outputId": "2b8b141f-0615-4e9d-e13f-eb15a1f22d47"
      },
      "execution_count": 150,
      "outputs": [
        {
          "output_type": "stream",
          "name": "stdout",
          "text": [
            "['https://keithgalli.github.io/web-scraping/challenge/file_1.html', 'https://keithgalli.github.io/web-scraping/challenge/file_2.html', 'https://keithgalli.github.io/web-scraping/challenge/file_3.html', 'https://keithgalli.github.io/web-scraping/challenge/file_4.html', 'https://keithgalli.github.io/web-scraping/challenge/file_5.html', 'https://keithgalli.github.io/web-scraping/challenge/file_6.html', 'https://keithgalli.github.io/web-scraping/challenge/file_7.html', 'https://keithgalli.github.io/web-scraping/challenge/file_8.html', 'https://keithgalli.github.io/web-scraping/challenge/file_9.html', 'https://keithgalli.github.io/web-scraping/challenge/file_10.html']\n"
          ]
        }
      ]
    },
    {
      "cell_type": "code",
      "source": [
        "secret = []\n",
        "for link in file_links:\n",
        "  req = requests.get(link).content # get content from each link\n",
        "  secret_soup = bs(req) # get soup object\n",
        "  secret_word = secret_soup.find(\"p\", attrs={\"id\":\"secret-word\"}).text # find the p tag and extract text\n",
        "  secret.append(secret_word)  # store word in list\n",
        "\n",
        "print(\"Secret message = \" + ' '.join(secret)) # join the list to get message string"
      ],
      "metadata": {
        "colab": {
          "base_uri": "https://localhost:8080/"
        },
        "id": "OTRuVEe9Vr7o",
        "outputId": "2ec077c8-f6f7-41ff-d32c-8f7a3c58040d"
      },
      "execution_count": 155,
      "outputs": [
        {
          "output_type": "stream",
          "name": "stdout",
          "text": [
            "Secret message = Make sure to smash that like button and subscribe !!!\n"
          ]
        }
      ]
    },
    {
      "cell_type": "code",
      "source": [
        ""
      ],
      "metadata": {
        "id": "gUsVGzG5WQkg"
      },
      "execution_count": null,
      "outputs": []
    }
  ]
}