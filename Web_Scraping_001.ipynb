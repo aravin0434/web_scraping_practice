{
  "nbformat": 4,
  "nbformat_minor": 0,
  "metadata": {
    "colab": {
      "name": "Web Scraping 001.ipynb",
      "provenance": []
    },
    "kernelspec": {
      "name": "python3",
      "display_name": "Python 3"
    },
    "language_info": {
      "name": "python"
    }
  },
  "cells": [
    {
      "cell_type": "code",
      "execution_count": 1,
      "metadata": {
        "id": "oRhZZ3XDSPzQ"
      },
      "outputs": [],
      "source": [
        "import requests\n",
        "from bs4 import BeautifulSoup as bs"
      ]
    },
    {
      "cell_type": "code",
      "source": [
        "r = requests.get(\"https://keithgalli.github.io/web-scraping/example.html\")\n",
        "\n",
        "# convert to bs object\n",
        "soup = bs(r.content)\n",
        "print(soup.prettify())"
      ],
      "metadata": {
        "colab": {
          "base_uri": "https://localhost:8080/"
        },
        "id": "cWtOeMAQSZ1n",
        "outputId": "c664017a-16e5-4269-8254-0937b7c1238b"
      },
      "execution_count": 5,
      "outputs": [
        {
          "output_type": "stream",
          "name": "stdout",
          "text": [
            "<html>\n",
            " <head>\n",
            "  <title>\n",
            "   HTML Example\n",
            "  </title>\n",
            " </head>\n",
            " <body>\n",
            "  <div align=\"middle\">\n",
            "   <h1>\n",
            "    HTML Webpage\n",
            "   </h1>\n",
            "   <p>\n",
            "    Link to more interesting example:\n",
            "    <a href=\"https://keithgalli.github.io/web-scraping/webpage.html\">\n",
            "     keithgalli.github.io/web-scraping/webpage.html\n",
            "    </a>\n",
            "   </p>\n",
            "  </div>\n",
            "  <h2>\n",
            "   A Header\n",
            "  </h2>\n",
            "  <p>\n",
            "   <i>\n",
            "    Some italicized text\n",
            "   </i>\n",
            "  </p>\n",
            "  <h2>\n",
            "   Another header\n",
            "  </h2>\n",
            "  <p id=\"paragraph-id\">\n",
            "   <b>\n",
            "    Some bold text\n",
            "   </b>\n",
            "  </p>\n",
            " </body>\n",
            "</html>\n",
            "\n"
          ]
        }
      ]
    },
    {
      "cell_type": "markdown",
      "source": [
        "# Some basic methods/properties of BS object (Scraping)"
      ],
      "metadata": {
        "id": "VC-70nJMWOTO"
      }
    },
    {
      "cell_type": "code",
      "source": [
        "soup.title # first encountered title tag"
      ],
      "metadata": {
        "colab": {
          "base_uri": "https://localhost:8080/"
        },
        "id": "IkyksMI4Spub",
        "outputId": "7751b020-0639-4d5c-9c1b-7cd7338e6ff8"
      },
      "execution_count": 6,
      "outputs": [
        {
          "output_type": "execute_result",
          "data": {
            "text/plain": [
              "<title>HTML Example</title>"
            ]
          },
          "metadata": {},
          "execution_count": 6
        }
      ]
    },
    {
      "cell_type": "code",
      "source": [
        "soup.head # first ecountered head tag"
      ],
      "metadata": {
        "colab": {
          "base_uri": "https://localhost:8080/"
        },
        "id": "5DbvVZI4TKoP",
        "outputId": "f0d79e46-50e7-4530-c2fc-cce349d61303"
      },
      "execution_count": 7,
      "outputs": [
        {
          "output_type": "execute_result",
          "data": {
            "text/plain": [
              "<head>\n",
              "<title>HTML Example</title>\n",
              "</head>"
            ]
          },
          "metadata": {},
          "execution_count": 7
        }
      ]
    },
    {
      "cell_type": "code",
      "source": [
        "soup.html.prettify()"
      ],
      "metadata": {
        "colab": {
          "base_uri": "https://localhost:8080/",
          "height": 122
        },
        "id": "euDPGWtoTMIs",
        "outputId": "21c0fde2-9af1-4ebe-ee15-f6c50e748e91"
      },
      "execution_count": 9,
      "outputs": [
        {
          "output_type": "execute_result",
          "data": {
            "text/plain": [
              "'<html>\\n <head>\\n  <title>\\n   HTML Example\\n  </title>\\n </head>\\n <body>\\n  <div align=\"middle\">\\n   <h1>\\n    HTML Webpage\\n   </h1>\\n   <p>\\n    Link to more interesting example:\\n    <a href=\"https://keithgalli.github.io/web-scraping/webpage.html\">\\n     keithgalli.github.io/web-scraping/webpage.html\\n    </a>\\n   </p>\\n  </div>\\n  <h2>\\n   A Header\\n  </h2>\\n  <p>\\n   <i>\\n    Some italicized text\\n   </i>\\n  </p>\\n  <h2>\\n   Another header\\n  </h2>\\n  <p id=\"paragraph-id\">\\n   <b>\\n    Some bold text\\n   </b>\\n  </p>\\n </body>\\n</html>\\n'"
            ],
            "application/vnd.google.colaboratory.intrinsic+json": {
              "type": "string"
            }
          },
          "metadata": {},
          "execution_count": 9
        }
      ]
    },
    {
      "cell_type": "code",
      "source": [
        "soup.title.name "
      ],
      "metadata": {
        "colab": {
          "base_uri": "https://localhost:8080/",
          "height": 35
        },
        "id": "meEoUCaGTOT0",
        "outputId": "b4718389-adb7-4a76-9f46-dbd7247696ab"
      },
      "execution_count": 10,
      "outputs": [
        {
          "output_type": "execute_result",
          "data": {
            "text/plain": [
              "'title'"
            ],
            "application/vnd.google.colaboratory.intrinsic+json": {
              "type": "string"
            }
          },
          "metadata": {},
          "execution_count": 10
        }
      ]
    },
    {
      "cell_type": "code",
      "source": [
        "dir(soup.title) # available options to use with soup.title"
      ],
      "metadata": {
        "colab": {
          "base_uri": "https://localhost:8080/"
        },
        "id": "rDkRYXF_TUgc",
        "outputId": "c91e1906-48a0-4049-e143-0166ea4cbdac"
      },
      "execution_count": 11,
      "outputs": [
        {
          "output_type": "execute_result",
          "data": {
            "text/plain": [
              "['HTML_FORMATTERS',\n",
              " 'XML_FORMATTERS',\n",
              " '__bool__',\n",
              " '__call__',\n",
              " '__class__',\n",
              " '__contains__',\n",
              " '__copy__',\n",
              " '__delattr__',\n",
              " '__delitem__',\n",
              " '__dict__',\n",
              " '__dir__',\n",
              " '__doc__',\n",
              " '__eq__',\n",
              " '__format__',\n",
              " '__ge__',\n",
              " '__getattr__',\n",
              " '__getattribute__',\n",
              " '__getitem__',\n",
              " '__gt__',\n",
              " '__hash__',\n",
              " '__init__',\n",
              " '__init_subclass__',\n",
              " '__iter__',\n",
              " '__le__',\n",
              " '__len__',\n",
              " '__lt__',\n",
              " '__module__',\n",
              " '__ne__',\n",
              " '__new__',\n",
              " '__reduce__',\n",
              " '__reduce_ex__',\n",
              " '__repr__',\n",
              " '__setattr__',\n",
              " '__setitem__',\n",
              " '__sizeof__',\n",
              " '__str__',\n",
              " '__subclasshook__',\n",
              " '__unicode__',\n",
              " '__weakref__',\n",
              " '_all_strings',\n",
              " '_attr_value_as_string',\n",
              " '_attribute_checker',\n",
              " '_find_all',\n",
              " '_find_one',\n",
              " '_formatter_for_name',\n",
              " '_is_xml',\n",
              " '_lastRecursiveChild',\n",
              " '_last_descendant',\n",
              " '_select_debug',\n",
              " '_selector_combinators',\n",
              " '_should_pretty_print',\n",
              " '_tag_name_matches_and',\n",
              " 'append',\n",
              " 'attribselect_re',\n",
              " 'attrs',\n",
              " 'can_be_empty_element',\n",
              " 'childGenerator',\n",
              " 'children',\n",
              " 'clear',\n",
              " 'contents',\n",
              " 'decode',\n",
              " 'decode_contents',\n",
              " 'decompose',\n",
              " 'descendants',\n",
              " 'encode',\n",
              " 'encode_contents',\n",
              " 'extract',\n",
              " 'fetchNextSiblings',\n",
              " 'fetchParents',\n",
              " 'fetchPrevious',\n",
              " 'fetchPreviousSiblings',\n",
              " 'find',\n",
              " 'findAll',\n",
              " 'findAllNext',\n",
              " 'findAllPrevious',\n",
              " 'findChild',\n",
              " 'findChildren',\n",
              " 'findNext',\n",
              " 'findNextSibling',\n",
              " 'findNextSiblings',\n",
              " 'findParent',\n",
              " 'findParents',\n",
              " 'findPrevious',\n",
              " 'findPreviousSibling',\n",
              " 'findPreviousSiblings',\n",
              " 'find_all',\n",
              " 'find_all_next',\n",
              " 'find_all_previous',\n",
              " 'find_next',\n",
              " 'find_next_sibling',\n",
              " 'find_next_siblings',\n",
              " 'find_parent',\n",
              " 'find_parents',\n",
              " 'find_previous',\n",
              " 'find_previous_sibling',\n",
              " 'find_previous_siblings',\n",
              " 'format_string',\n",
              " 'get',\n",
              " 'getText',\n",
              " 'get_attribute_list',\n",
              " 'get_text',\n",
              " 'has_attr',\n",
              " 'has_key',\n",
              " 'hidden',\n",
              " 'index',\n",
              " 'insert',\n",
              " 'insert_after',\n",
              " 'insert_before',\n",
              " 'isSelfClosing',\n",
              " 'is_empty_element',\n",
              " 'known_xml',\n",
              " 'name',\n",
              " 'namespace',\n",
              " 'next',\n",
              " 'nextGenerator',\n",
              " 'nextSibling',\n",
              " 'nextSiblingGenerator',\n",
              " 'next_element',\n",
              " 'next_elements',\n",
              " 'next_sibling',\n",
              " 'next_siblings',\n",
              " 'parent',\n",
              " 'parentGenerator',\n",
              " 'parents',\n",
              " 'parserClass',\n",
              " 'parser_class',\n",
              " 'prefix',\n",
              " 'preserve_whitespace_tags',\n",
              " 'prettify',\n",
              " 'previous',\n",
              " 'previousGenerator',\n",
              " 'previousSibling',\n",
              " 'previousSiblingGenerator',\n",
              " 'previous_element',\n",
              " 'previous_elements',\n",
              " 'previous_sibling',\n",
              " 'previous_siblings',\n",
              " 'quoted_colon',\n",
              " 'recursiveChildGenerator',\n",
              " 'renderContents',\n",
              " 'replaceWith',\n",
              " 'replaceWithChildren',\n",
              " 'replace_with',\n",
              " 'replace_with_children',\n",
              " 'select',\n",
              " 'select_one',\n",
              " 'setup',\n",
              " 'string',\n",
              " 'strings',\n",
              " 'stripped_strings',\n",
              " 'tag_name_re',\n",
              " 'text',\n",
              " 'unwrap',\n",
              " 'wrap']"
            ]
          },
          "metadata": {},
          "execution_count": 11
        }
      ]
    },
    {
      "cell_type": "code",
      "source": [
        "soup.title.text # gets the text inside first ecnountered title tag"
      ],
      "metadata": {
        "colab": {
          "base_uri": "https://localhost:8080/",
          "height": 35
        },
        "id": "hBZwB0P8TXi-",
        "outputId": "e983edfa-455e-4e3b-d14a-b582ac7c4a12"
      },
      "execution_count": 12,
      "outputs": [
        {
          "output_type": "execute_result",
          "data": {
            "text/plain": [
              "'HTML Example'"
            ],
            "application/vnd.google.colaboratory.intrinsic+json": {
              "type": "string"
            }
          },
          "metadata": {},
          "execution_count": 12
        }
      ]
    },
    {
      "cell_type": "code",
      "source": [
        "soup.title.string # gets the text inside first ecnountered title tag (find out what the difference is, if any)"
      ],
      "metadata": {
        "colab": {
          "base_uri": "https://localhost:8080/",
          "height": 35
        },
        "id": "cv1C3sm-Tb9X",
        "outputId": "ec15cab7-f42d-4922-8b1b-5c35eba621c7"
      },
      "execution_count": 13,
      "outputs": [
        {
          "output_type": "execute_result",
          "data": {
            "text/plain": [
              "'HTML Example'"
            ],
            "application/vnd.google.colaboratory.intrinsic+json": {
              "type": "string"
            }
          },
          "metadata": {},
          "execution_count": 13
        }
      ]
    },
    {
      "cell_type": "code",
      "source": [
        "soup.div # first encountered div tag"
      ],
      "metadata": {
        "colab": {
          "base_uri": "https://localhost:8080/"
        },
        "id": "8vnNOi-yTdpm",
        "outputId": "ee43cb7e-730e-4116-b590-c5e3ecb555a6"
      },
      "execution_count": 14,
      "outputs": [
        {
          "output_type": "execute_result",
          "data": {
            "text/plain": [
              "<div align=\"middle\">\n",
              "<h1>HTML Webpage</h1>\n",
              "<p>Link to more interesting example: <a href=\"https://keithgalli.github.io/web-scraping/webpage.html\">keithgalli.github.io/web-scraping/webpage.html</a></p>\n",
              "</div>"
            ]
          },
          "metadata": {},
          "execution_count": 14
        }
      ]
    },
    {
      "cell_type": "code",
      "source": [
        "soup.p # first encountered p tag"
      ],
      "metadata": {
        "colab": {
          "base_uri": "https://localhost:8080/"
        },
        "id": "YOFeUlFzTmdI",
        "outputId": "430364b0-e91f-4e65-a085-1a0f0f1b8952"
      },
      "execution_count": 15,
      "outputs": [
        {
          "output_type": "execute_result",
          "data": {
            "text/plain": [
              "<p>Link to more interesting example: <a href=\"https://keithgalli.github.io/web-scraping/webpage.html\">keithgalli.github.io/web-scraping/webpage.html</a></p>"
            ]
          },
          "metadata": {},
          "execution_count": 15
        }
      ]
    },
    {
      "cell_type": "code",
      "source": [
        "soup.find_all(\"p\") # all occurences of p tag"
      ],
      "metadata": {
        "colab": {
          "base_uri": "https://localhost:8080/"
        },
        "id": "L5LgjV2RTqzA",
        "outputId": "3eeb71c6-c1ac-4dc9-95a8-2188ee878969"
      },
      "execution_count": 16,
      "outputs": [
        {
          "output_type": "execute_result",
          "data": {
            "text/plain": [
              "[<p>Link to more interesting example: <a href=\"https://keithgalli.github.io/web-scraping/webpage.html\">keithgalli.github.io/web-scraping/webpage.html</a></p>,\n",
              " <p><i>Some italicized text</i></p>,\n",
              " <p id=\"paragraph-id\"><b>Some bold text</b></p>]"
            ]
          },
          "metadata": {},
          "execution_count": 16
        }
      ]
    },
    {
      "cell_type": "code",
      "source": [
        "for link in soup.find_all(\"a\"):\n",
        "  print(link.href)"
      ],
      "metadata": {
        "colab": {
          "base_uri": "https://localhost:8080/"
        },
        "id": "TAoItjS6TyDy",
        "outputId": "7c8770a1-2be7-40bb-d3d6-039191b29f45"
      },
      "execution_count": 17,
      "outputs": [
        {
          "output_type": "stream",
          "name": "stdout",
          "text": [
            "None\n"
          ]
        }
      ]
    },
    {
      "cell_type": "code",
      "source": [
        "for link in soup.find_all(\"a\"):\n",
        "  print(link.get('href')) # use object.get to get attributes within tags like href, class, etx"
      ],
      "metadata": {
        "colab": {
          "base_uri": "https://localhost:8080/"
        },
        "id": "HEA_Ls5ST_rJ",
        "outputId": "9bf95f83-5f59-40f6-d1f9-2fc6f1830521"
      },
      "execution_count": 18,
      "outputs": [
        {
          "output_type": "stream",
          "name": "stdout",
          "text": [
            "https://keithgalli.github.io/web-scraping/webpage.html\n"
          ]
        }
      ]
    },
    {
      "cell_type": "code",
      "source": [
        "print(soup.get_text()) # gets the text rendered by the html file"
      ],
      "metadata": {
        "colab": {
          "base_uri": "https://localhost:8080/"
        },
        "id": "_xD1KCV7UEXR",
        "outputId": "22092101-40ce-413e-f249-c3457bc9343f"
      },
      "execution_count": 19,
      "outputs": [
        {
          "output_type": "stream",
          "name": "stdout",
          "text": [
            "\n",
            "\n",
            "HTML Example\n",
            "\n",
            "\n",
            "\n",
            "HTML Webpage\n",
            "Link to more interesting example: keithgalli.github.io/web-scraping/webpage.html\n",
            "\n",
            "A Header\n",
            "Some italicized text\n",
            "Another header\n",
            "Some bold text\n",
            "\n",
            "\n",
            "\n"
          ]
        }
      ]
    },
    {
      "cell_type": "code",
      "source": [
        "first_header = soup.find('h2') # find can also be used to get the first ocurrence of a tag\n",
        "print(first_header)"
      ],
      "metadata": {
        "colab": {
          "base_uri": "https://localhost:8080/"
        },
        "id": "7-8ay0avUIX9",
        "outputId": "7a05b56d-c49f-4193-8900-5d42251e0841"
      },
      "execution_count": 21,
      "outputs": [
        {
          "output_type": "stream",
          "name": "stdout",
          "text": [
            "<h2>A Header</h2>\n"
          ]
        }
      ]
    },
    {
      "cell_type": "code",
      "source": [
        "first_header = soup.find(['h1', 'h2']) # returns whichever tag found first from the list passed\n",
        "print(first_header)"
      ],
      "metadata": {
        "colab": {
          "base_uri": "https://localhost:8080/"
        },
        "id": "j_qGA-CNV8dF",
        "outputId": "0510850c-3234-46bd-9b84-2ee325ae6217"
      },
      "execution_count": 22,
      "outputs": [
        {
          "output_type": "stream",
          "name": "stdout",
          "text": [
            "<h1>HTML Webpage</h1>\n"
          ]
        }
      ]
    },
    {
      "cell_type": "code",
      "source": [
        "paragraph = soup.find_all(\"p\", attrs={\"id\": \"paragraph-id\"}) # can pass atributes of the tag as a dictionary\n",
        "paragraph"
      ],
      "metadata": {
        "colab": {
          "base_uri": "https://localhost:8080/"
        },
        "id": "FpQ0J-_MW0E_",
        "outputId": "dc932b49-e555-4f6b-f945-0b894b6c16d3"
      },
      "execution_count": 23,
      "outputs": [
        {
          "output_type": "execute_result",
          "data": {
            "text/plain": [
              "[<p id=\"paragraph-id\"><b>Some bold text</b></p>]"
            ]
          },
          "metadata": {},
          "execution_count": 23
        }
      ]
    },
    {
      "cell_type": "code",
      "source": [
        "body = soup.find(\"body\")\n",
        "div = body.find(\"div\") # search narrowed down to the elements inside the body returned by previous line\n",
        "# useful for narrowing down searches in large pages\n",
        "div"
      ],
      "metadata": {
        "colab": {
          "base_uri": "https://localhost:8080/"
        },
        "id": "Y9UP2D9eXMnL",
        "outputId": "47578bf3-b2f7-43c8-ba2b-9a54c8bbf1a9"
      },
      "execution_count": 24,
      "outputs": [
        {
          "output_type": "execute_result",
          "data": {
            "text/plain": [
              "<div align=\"middle\">\n",
              "<h1>HTML Webpage</h1>\n",
              "<p>Link to more interesting example: <a href=\"https://keithgalli.github.io/web-scraping/webpage.html\">keithgalli.github.io/web-scraping/webpage.html</a></p>\n",
              "</div>"
            ]
          },
          "metadata": {},
          "execution_count": 24
        }
      ]
    },
    {
      "cell_type": "code",
      "source": [
        "# can search for exact strings, partials do not work out of the box (case sensitive)\n",
        "paragraphs = soup.find_all(\"p\", string = \"Some bold text\")\n",
        "paragraphs"
      ],
      "metadata": {
        "colab": {
          "base_uri": "https://localhost:8080/"
        },
        "id": "66vIYNkSXZFv",
        "outputId": "04867d4c-980b-4c7f-8d52-e1549b935cdc"
      },
      "execution_count": 26,
      "outputs": [
        {
          "output_type": "execute_result",
          "data": {
            "text/plain": [
              "[<p id=\"paragraph-id\"><b>Some bold text</b></p>]"
            ]
          },
          "metadata": {},
          "execution_count": 26
        }
      ]
    },
    {
      "cell_type": "code",
      "source": [
        "import re"
      ],
      "metadata": {
        "id": "bg_fNB1LYFad"
      },
      "execution_count": 27,
      "outputs": []
    },
    {
      "cell_type": "code",
      "source": [
        "paragraph2 = soup.find_all(\"p\", string = re.compile(\"Some\")) # partial string matched by use of regex\n",
        "paragraph2"
      ],
      "metadata": {
        "colab": {
          "base_uri": "https://localhost:8080/"
        },
        "id": "wI3GKpLdYNIX",
        "outputId": "afd0cfbc-72f0-4203-dd56-94f43b41b0d2"
      },
      "execution_count": 30,
      "outputs": [
        {
          "output_type": "execute_result",
          "data": {
            "text/plain": [
              "[<p><i>Some italicized text</i></p>,\n",
              " <p id=\"paragraph-id\"><b>Some bold text</b></p>]"
            ]
          },
          "metadata": {},
          "execution_count": 30
        }
      ]
    },
    {
      "cell_type": "code",
      "source": [
        "headers = soup.find_all(\"h2\", string = re.compile(\"(H|h)eader\")) # learn regex!\n",
        "headers"
      ],
      "metadata": {
        "colab": {
          "base_uri": "https://localhost:8080/"
        },
        "id": "TJV8xkVvYVVa",
        "outputId": "83c1d43c-e8f6-4846-e642-f5c16c4625da"
      },
      "execution_count": 32,
      "outputs": [
        {
          "output_type": "execute_result",
          "data": {
            "text/plain": [
              "[<h2>A Header</h2>, <h2>Another header</h2>]"
            ]
          },
          "metadata": {},
          "execution_count": 32
        }
      ]
    },
    {
      "cell_type": "markdown",
      "source": [
        "# select (CSS Selector)"
      ],
      "metadata": {
        "id": "iw2Bp4rmZHV8"
      }
    },
    {
      "cell_type": "code",
      "source": [
        "content = soup.select(\"p\")\n",
        "content"
      ],
      "metadata": {
        "colab": {
          "base_uri": "https://localhost:8080/"
        },
        "id": "Kqduzt0DYrFI",
        "outputId": "3e9e0aba-bb33-4942-e4b8-8ca361001a2c"
      },
      "execution_count": 33,
      "outputs": [
        {
          "output_type": "execute_result",
          "data": {
            "text/plain": [
              "[<p>Link to more interesting example: <a href=\"https://keithgalli.github.io/web-scraping/webpage.html\">keithgalli.github.io/web-scraping/webpage.html</a></p>,\n",
              " <p><i>Some italicized text</i></p>,\n",
              " <p id=\"paragraph-id\"><b>Some bold text</b></p>]"
            ]
          },
          "metadata": {},
          "execution_count": 33
        }
      ]
    },
    {
      "cell_type": "code",
      "source": [
        "paragraphs = soup.select(\"h2 ~ p\") # gets the p tag directly after h2\n",
        "paragraphs"
      ],
      "metadata": {
        "colab": {
          "base_uri": "https://localhost:8080/"
        },
        "id": "jqCvzYTWZhp1",
        "outputId": "11637efa-fa38-4a45-9082-865d3e551738"
      },
      "execution_count": 35,
      "outputs": [
        {
          "output_type": "execute_result",
          "data": {
            "text/plain": [
              "[<p><i>Some italicized text</i></p>,\n",
              " <p id=\"paragraph-id\"><b>Some bold text</b></p>]"
            ]
          },
          "metadata": {},
          "execution_count": 35
        }
      ]
    },
    {
      "cell_type": "code",
      "source": [
        "bold_text = soup.select(\"p#paragraph-id b\") # b tag inside a p tag with id as paragraph-id \n",
        "bold_text"
      ],
      "metadata": {
        "colab": {
          "base_uri": "https://localhost:8080/"
        },
        "id": "AY0w_lcIZzlh",
        "outputId": "c486438d-f049-4c6f-d1aa-8b15c474ee16"
      },
      "execution_count": 40,
      "outputs": [
        {
          "output_type": "execute_result",
          "data": {
            "text/plain": [
              "[<b>Some bold text</b>]"
            ]
          },
          "metadata": {},
          "execution_count": 40
        }
      ]
    },
    {
      "cell_type": "code",
      "source": [
        "paragraphs = soup.select(\"body > p\") # p tags that are direct descendants of body\n",
        "paragraphs"
      ],
      "metadata": {
        "colab": {
          "base_uri": "https://localhost:8080/"
        },
        "id": "zWdItw4IaMd5",
        "outputId": "1ebe9922-4b2e-4777-bc5d-c5690442a4a7"
      },
      "execution_count": 41,
      "outputs": [
        {
          "output_type": "execute_result",
          "data": {
            "text/plain": [
              "[<p><i>Some italicized text</i></p>,\n",
              " <p id=\"paragraph-id\"><b>Some bold text</b></p>]"
            ]
          },
          "metadata": {},
          "execution_count": 41
        }
      ]
    },
    {
      "cell_type": "code",
      "source": [
        "for p in paragraphs: \n",
        "  print(p.select(\"i\")) # displays i tags that are present inside the selected paragraph"
      ],
      "metadata": {
        "colab": {
          "base_uri": "https://localhost:8080/"
        },
        "id": "gE_r3bRHa6JV",
        "outputId": "ae9a741a-1823-4eb4-f8eb-0e817966feff"
      },
      "execution_count": 42,
      "outputs": [
        {
          "output_type": "stream",
          "name": "stdout",
          "text": [
            "[<i>Some italicized text</i>]\n",
            "[]\n"
          ]
        }
      ]
    },
    {
      "cell_type": "code",
      "source": [
        "# Grab element by specific property\n",
        "soup.select(\"[align=middle]\")"
      ],
      "metadata": {
        "colab": {
          "base_uri": "https://localhost:8080/"
        },
        "id": "WvDzEajXbEO3",
        "outputId": "d42f2505-25c9-495c-ec75-facdb3705f29"
      },
      "execution_count": 44,
      "outputs": [
        {
          "output_type": "execute_result",
          "data": {
            "text/plain": [
              "[<div align=\"middle\">\n",
              " <h1>HTML Webpage</h1>\n",
              " <p>Link to more interesting example: <a href=\"https://keithgalli.github.io/web-scraping/webpage.html\">keithgalli.github.io/web-scraping/webpage.html</a></p>\n",
              " </div>]"
            ]
          },
          "metadata": {},
          "execution_count": 44
        }
      ]
    },
    {
      "cell_type": "code",
      "source": [
        "soup.select(\"[href]\")"
      ],
      "metadata": {
        "colab": {
          "base_uri": "https://localhost:8080/"
        },
        "id": "z5Eu7_lCbVtX",
        "outputId": "3e89d1ef-a42b-4901-a5c4-f76ba6e63e64"
      },
      "execution_count": 45,
      "outputs": [
        {
          "output_type": "execute_result",
          "data": {
            "text/plain": [
              "[<a href=\"https://keithgalli.github.io/web-scraping/webpage.html\">keithgalli.github.io/web-scraping/webpage.html</a>]"
            ]
          },
          "metadata": {},
          "execution_count": 45
        }
      ]
    },
    {
      "cell_type": "code",
      "source": [
        "soup.select(\"href\")"
      ],
      "metadata": {
        "colab": {
          "base_uri": "https://localhost:8080/"
        },
        "id": "5talPtXabcmZ",
        "outputId": "b3812c25-ec86-437e-ab26-f038b5dec4c5"
      },
      "execution_count": 46,
      "outputs": [
        {
          "output_type": "execute_result",
          "data": {
            "text/plain": [
              "[]"
            ]
          },
          "metadata": {},
          "execution_count": 46
        }
      ]
    },
    {
      "cell_type": "markdown",
      "source": [
        "# Get Different Properties of HTML"
      ],
      "metadata": {
        "id": "Rbd2EVclblxa"
      }
    },
    {
      "cell_type": "code",
      "source": [
        "header2 = soup.find(\"h2\") # I experimented this above, this is here again as Keith has brought this up in the tutorial\n",
        "header2.string"
      ],
      "metadata": {
        "colab": {
          "base_uri": "https://localhost:8080/",
          "height": 35
        },
        "id": "DoypbT4gbfhU",
        "outputId": "37839da0-7de5-45a1-fe26-bcd9eef1a2ef"
      },
      "execution_count": 47,
      "outputs": [
        {
          "output_type": "execute_result",
          "data": {
            "text/plain": [
              "'A Header'"
            ],
            "application/vnd.google.colaboratory.intrinsic+json": {
              "type": "string"
            }
          },
          "metadata": {},
          "execution_count": 47
        }
      ]
    },
    {
      "cell_type": "code",
      "source": [
        "div = soup.find(\"div\")\n",
        "print(div.prettify())"
      ],
      "metadata": {
        "colab": {
          "base_uri": "https://localhost:8080/"
        },
        "id": "KlYFxwmGbv3g",
        "outputId": "2fb8a744-8581-4fae-d4d1-0924a51f9e4e"
      },
      "execution_count": 50,
      "outputs": [
        {
          "output_type": "stream",
          "name": "stdout",
          "text": [
            "<div align=\"middle\">\n",
            " <h1>\n",
            "  HTML Webpage\n",
            " </h1>\n",
            " <p>\n",
            "  Link to more interesting example:\n",
            "  <a href=\"https://keithgalli.github.io/web-scraping/webpage.html\">\n",
            "   keithgalli.github.io/web-scraping/webpage.html\n",
            "  </a>\n",
            " </p>\n",
            "</div>\n",
            "\n"
          ]
        }
      ]
    },
    {
      "cell_type": "code",
      "source": [
        "div.string # nothing happens, because it has 2 elements as children"
      ],
      "metadata": {
        "id": "uV01YuScb8If"
      },
      "execution_count": 53,
      "outputs": []
    },
    {
      "cell_type": "code",
      "source": [
        "print(div.get_text()) # Now you know the differnece between sring and text :P!"
      ],
      "metadata": {
        "colab": {
          "base_uri": "https://localhost:8080/"
        },
        "id": "sDZfOVZvcDpJ",
        "outputId": "6176c256-78e3-4155-b830-763f6c22abef"
      },
      "execution_count": 55,
      "outputs": [
        {
          "output_type": "stream",
          "name": "stdout",
          "text": [
            "\n",
            "HTML Webpage\n",
            "Link to more interesting example: keithgalli.github.io/web-scraping/webpage.html\n",
            "\n"
          ]
        }
      ]
    },
    {
      "cell_type": "markdown",
      "source": [
        "# Code Navigation"
      ],
      "metadata": {
        "id": "BqsRsLifc1lp"
      }
    },
    {
      "cell_type": "code",
      "source": [
        "soup.body.div.h1.string # path syntax, drill down the tags"
      ],
      "metadata": {
        "colab": {
          "base_uri": "https://localhost:8080/",
          "height": 35
        },
        "id": "4_PtRFPqcPSA",
        "outputId": "a1230366-d16a-4785-bab6-bc669b21b73e"
      },
      "execution_count": 56,
      "outputs": [
        {
          "output_type": "execute_result",
          "data": {
            "text/plain": [
              "'HTML Webpage'"
            ],
            "application/vnd.google.colaboratory.intrinsic+json": {
              "type": "string"
            }
          },
          "metadata": {},
          "execution_count": 56
        }
      ]
    },
    {
      "cell_type": "code",
      "source": [
        "print(soup.body.prettify())"
      ],
      "metadata": {
        "colab": {
          "base_uri": "https://localhost:8080/"
        },
        "id": "AGxY3MYddFRe",
        "outputId": "2ca5201f-b20b-4910-e7cd-9943d8457fd6"
      },
      "execution_count": 58,
      "outputs": [
        {
          "output_type": "stream",
          "name": "stdout",
          "text": [
            "<body>\n",
            " <div align=\"middle\">\n",
            "  <h1>\n",
            "   HTML Webpage\n",
            "  </h1>\n",
            "  <p>\n",
            "   Link to more interesting example:\n",
            "   <a href=\"https://keithgalli.github.io/web-scraping/webpage.html\">\n",
            "    keithgalli.github.io/web-scraping/webpage.html\n",
            "   </a>\n",
            "  </p>\n",
            " </div>\n",
            " <h2>\n",
            "  A Header\n",
            " </h2>\n",
            " <p>\n",
            "  <i>\n",
            "   Some italicized text\n",
            "  </i>\n",
            " </p>\n",
            " <h2>\n",
            "  Another header\n",
            " </h2>\n",
            " <p id=\"paragraph-id\">\n",
            "  <b>\n",
            "   Some bold text\n",
            "  </b>\n",
            " </p>\n",
            "</body>\n",
            "\n"
          ]
        }
      ]
    },
    {
      "cell_type": "code",
      "source": [
        "# know the terms: parent, sibling, child\n",
        "print(soup.body.div.h1.parent.parent)"
      ],
      "metadata": {
        "colab": {
          "base_uri": "https://localhost:8080/"
        },
        "id": "BdvAHQ2Hc72P",
        "outputId": "02ccff48-aec1-4c66-e508-ed4c2bbf7197"
      },
      "execution_count": 60,
      "outputs": [
        {
          "output_type": "stream",
          "name": "stdout",
          "text": [
            "<body>\n",
            "<div align=\"middle\">\n",
            "<h1>HTML Webpage</h1>\n",
            "<p>Link to more interesting example: <a href=\"https://keithgalli.github.io/web-scraping/webpage.html\">keithgalli.github.io/web-scraping/webpage.html</a></p>\n",
            "</div>\n",
            "<h2>A Header</h2>\n",
            "<p><i>Some italicized text</i></p>\n",
            "<h2>Another header</h2>\n",
            "<p id=\"paragraph-id\"><b>Some bold text</b></p>\n",
            "</body>\n"
          ]
        }
      ]
    },
    {
      "cell_type": "code",
      "source": [
        "print(soup.body.div.h1.sibling)"
      ],
      "metadata": {
        "colab": {
          "base_uri": "https://localhost:8080/"
        },
        "id": "Fw4PFBocdLtd",
        "outputId": "1727a1d3-a7ef-44c9-e807-34defde9aa32"
      },
      "execution_count": 61,
      "outputs": [
        {
          "output_type": "stream",
          "name": "stdout",
          "text": [
            "None\n"
          ]
        }
      ]
    },
    {
      "cell_type": "code",
      "source": [
        "print(soup.body.div.h1.parent.siblings)"
      ],
      "metadata": {
        "colab": {
          "base_uri": "https://localhost:8080/"
        },
        "id": "xRtVsGNPdXVy",
        "outputId": "ced2f6f9-4527-4087-cd66-b7b301af5be8"
      },
      "execution_count": 63,
      "outputs": [
        {
          "output_type": "stream",
          "name": "stdout",
          "text": [
            "None\n"
          ]
        }
      ]
    },
    {
      "cell_type": "code",
      "source": [
        "print(soup.body.div.find_next_sibling())"
      ],
      "metadata": {
        "colab": {
          "base_uri": "https://localhost:8080/"
        },
        "id": "hwn_NNBAdbHr",
        "outputId": "cfeec88d-4f18-4503-b35b-e110f1f86c64"
      },
      "execution_count": 64,
      "outputs": [
        {
          "output_type": "stream",
          "name": "stdout",
          "text": [
            "<h2>A Header</h2>\n"
          ]
        }
      ]
    },
    {
      "cell_type": "code",
      "source": [
        "print(soup.body.div.find_next_siblings())"
      ],
      "metadata": {
        "colab": {
          "base_uri": "https://localhost:8080/"
        },
        "id": "yadFUfiWdn7m",
        "outputId": "a58d4af5-8395-4868-8329-d916d1b57fb1"
      },
      "execution_count": 65,
      "outputs": [
        {
          "output_type": "stream",
          "name": "stdout",
          "text": [
            "[<h2>A Header</h2>, <p><i>Some italicized text</i></p>, <h2>Another header</h2>, <p id=\"paragraph-id\"><b>Some bold text</b></p>]\n"
          ]
        }
      ]
    },
    {
      "cell_type": "code",
      "source": [
        ""
      ],
      "metadata": {
        "id": "dJGA1nuxdmMa"
      },
      "execution_count": null,
      "outputs": []
    }
  ]
}